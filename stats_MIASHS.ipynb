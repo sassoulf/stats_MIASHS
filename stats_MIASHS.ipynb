{
 "cells": [
  {
   "cell_type": "code",
   "execution_count": 78,
   "id": "f8998e38",
   "metadata": {},
   "outputs": [],
   "source": [
    "import pandas as pd\n",
    "\n",
    "df = pd.read_csv(\"stats_MIASHS_etu.csv\",     #utiliser pandas en librairie\n",
    "           sep=\"|\", \n",
    "           skiprows=3,                              #supp 3 1eres lignes (car pas données)\n",
    "           skipfooter=1,                            #supp 1 derniere ligne \n",
    "           engine='python'\n",
    "                )"
   ]
  },
  {
   "cell_type": "code",
   "execution_count": 79,
   "id": "ff211837",
   "metadata": {
    "scrolled": false
   },
   "outputs": [
    {
     "name": "stdout",
     "output_type": "stream",
     "text": [
      "Horodateur\n",
      "How many people live in the city you grew up in? If you grew up in more than one city, choose the one you stayed in the longest.\n",
      "How many years of higher education have you completed? (Do not take into account this current year).\n",
      "What net monthly salary do you expect to get in 10 years from now?\n",
      "How many siblings do you have, including yourself? Example: If you have 2 sisters and 1 brother, write 4.\n",
      "Include half-siblings - or your step-mother or step-father's children-  if you grew up with them.\n",
      "If you are an only child, enter 0.\n",
      "What age group do you belong to?\n",
      "What is your father's level of education?\n",
      "What is your mother's level of education?\n",
      "How tall are you?\n",
      "What is your gender?\n",
      "What are you three favourite pets? Use a comma to separate the different pets.\n",
      "What is your favourite TV show? \n"
     ]
    }
   ],
   "source": [
    "for col in df.columns : print(col)"
   ]
  },
  {
   "cell_type": "code",
   "execution_count": 80,
   "id": "234bc2ca",
   "metadata": {},
   "outputs": [],
   "source": [
    "cols =[\n",
    "    'date_and_time'\n",
    "    , 'city'\n",
    "    , 'education'\n",
    "    , 'salary'\n",
    "    , 'siblings'\n",
    "    ,'age'\n",
    "    , 'mother_edu_level' \n",
    "    ,'father_edu_level'\n",
    "    ,'size'\n",
    "    ,'gender'\n",
    "    ,'pets'\n",
    "    ,'tv_show']"
   ]
  },
  {
   "cell_type": "code",
   "execution_count": 81,
   "id": "f4666158",
   "metadata": {},
   "outputs": [],
   "source": [
    "df.columns=cols #pas () car columns pas fonction mais une propriété"
   ]
  },
  {
   "cell_type": "code",
   "execution_count": 82,
   "id": "f0d12bdb",
   "metadata": {},
   "outputs": [
    {
     "data": {
      "text/html": [
       "<div>\n",
       "<style scoped>\n",
       "    .dataframe tbody tr th:only-of-type {\n",
       "        vertical-align: middle;\n",
       "    }\n",
       "\n",
       "    .dataframe tbody tr th {\n",
       "        vertical-align: top;\n",
       "    }\n",
       "\n",
       "    .dataframe thead th {\n",
       "        text-align: right;\n",
       "    }\n",
       "</style>\n",
       "<table border=\"1\" class=\"dataframe\">\n",
       "  <thead>\n",
       "    <tr style=\"text-align: right;\">\n",
       "      <th></th>\n",
       "      <th>date_and_time</th>\n",
       "      <th>city</th>\n",
       "      <th>education</th>\n",
       "      <th>salary</th>\n",
       "      <th>siblings</th>\n",
       "      <th>age</th>\n",
       "      <th>mother_edu_level</th>\n",
       "      <th>father_edu_level</th>\n",
       "      <th>size</th>\n",
       "      <th>gender</th>\n",
       "      <th>pets</th>\n",
       "      <th>tv_show</th>\n",
       "    </tr>\n",
       "  </thead>\n",
       "  <tbody>\n",
       "    <tr>\n",
       "      <th>0</th>\n",
       "      <td>2023/01/24 12:54:33 PM UTC+1</td>\n",
       "      <td>105142</td>\n",
       "      <td>2</td>\n",
       "      <td>3500</td>\n",
       "      <td>6</td>\n",
       "      <td>20 - 21 years old</td>\n",
       "      <td>French baccalaureate</td>\n",
       "      <td>Licence</td>\n",
       "      <td>165</td>\n",
       "      <td>Woman</td>\n",
       "      <td>BIRD, SNAKE, CAT</td>\n",
       "      <td>le meilleur patissier</td>\n",
       "    </tr>\n",
       "    <tr>\n",
       "      <th>1</th>\n",
       "      <td>2023/01/24 12:57:59 PM UTC+1</td>\n",
       "      <td>40</td>\n",
       "      <td>2</td>\n",
       "      <td>4000</td>\n",
       "      <td>3</td>\n",
       "      <td>18 - 19 years old</td>\n",
       "      <td>Licence</td>\n",
       "      <td>Licence</td>\n",
       "      <td>175 cm</td>\n",
       "      <td>Woman</td>\n",
       "      <td>giraffe, cat, swan</td>\n",
       "      <td>brooklyn 99</td>\n",
       "    </tr>\n",
       "  </tbody>\n",
       "</table>\n",
       "</div>"
      ],
      "text/plain": [
       "                  date_and_time    city  education  salary  siblings  \\\n",
       "0  2023/01/24 12:54:33 PM UTC+1  105142          2    3500         6   \n",
       "1  2023/01/24 12:57:59 PM UTC+1      40          2    4000         3   \n",
       "\n",
       "                 age      mother_edu_level father_edu_level    size gender  \\\n",
       "0  20 - 21 years old  French baccalaureate          Licence     165  Woman   \n",
       "1  18 - 19 years old               Licence          Licence  175 cm  Woman   \n",
       "\n",
       "                 pets                tv_show  \n",
       "0    BIRD, SNAKE, CAT  le meilleur patissier  \n",
       "1  giraffe, cat, swan            brooklyn 99  "
      ]
     },
     "execution_count": 82,
     "metadata": {},
     "output_type": "execute_result"
    }
   ],
   "source": [
    "df.head(2)"
   ]
  },
  {
   "cell_type": "code",
   "execution_count": 83,
   "id": "6f6c4af1",
   "metadata": {},
   "outputs": [],
   "source": [
    "df=df.drop(columns=['date_and_time']) #suppr colonne dtae_and_time"
   ]
  },
  {
   "cell_type": "code",
   "execution_count": 84,
   "id": "2395a3f6",
   "metadata": {},
   "outputs": [
    {
     "data": {
      "text/plain": [
       "(12, 11)"
      ]
     },
     "execution_count": 84,
     "metadata": {},
     "output_type": "execute_result"
    }
   ],
   "source": [
    "df.shape #donne dimmensions (shape == propriete donc pas () )"
   ]
  },
  {
   "cell_type": "code",
   "execution_count": 85,
   "id": "362edb31",
   "metadata": {},
   "outputs": [
    {
     "data": {
      "text/plain": [
       "11"
      ]
     },
     "execution_count": 85,
     "metadata": {},
     "output_type": "execute_result"
    }
   ],
   "source": [
    "df.shape[1]"
   ]
  },
  {
   "cell_type": "code",
   "execution_count": 86,
   "id": "a18d8e00",
   "metadata": {},
   "outputs": [
    {
     "data": {
      "text/plain": [
       "city                0\n",
       "education           0\n",
       "salary              0\n",
       "siblings            0\n",
       "age                 0\n",
       "mother_edu_level    0\n",
       "father_edu_level    0\n",
       "size                0\n",
       "gender              0\n",
       "pets                0\n",
       "tv_show             0\n",
       "dtype: int64"
      ]
     },
     "execution_count": 86,
     "metadata": {},
     "output_type": "execute_result"
    }
   ],
   "source": [
    "df.isna().sum()  # si que df.isna() => renvoie False si valeur vide sinon True\n",
    "                # df.isna().sum() => renvoie la somme des booléens,false) => nb valeurs manquantes"
   ]
  },
  {
   "cell_type": "code",
   "execution_count": 87,
   "id": "12786004",
   "metadata": {},
   "outputs": [
    {
     "data": {
      "text/plain": [
       "0     105142\n",
       "1         40\n",
       "2       5000\n",
       "3      24000\n",
       "4      10000\n",
       "5      18203\n",
       "6     100000\n",
       "7     171057\n",
       "8       8000\n",
       "9       6000\n",
       "10    860000\n",
       "11     17000\n",
       "Name: city, dtype: int64"
      ]
     },
     "execution_count": 87,
     "metadata": {},
     "output_type": "execute_result"
    }
   ],
   "source": [
    "df['city']     # donne le nb d'habitant de chaque ligne (0=1ere ligne)"
   ]
  },
  {
   "cell_type": "markdown",
   "id": "c36939e3",
   "metadata": {},
   "source": [
    "##city"
   ]
  },
  {
   "cell_type": "code",
   "execution_count": 88,
   "id": "04928758",
   "metadata": {},
   "outputs": [
    {
     "data": {
      "text/plain": [
       "<AxesSubplot:>"
      ]
     },
     "execution_count": 88,
     "metadata": {},
     "output_type": "execute_result"
    },
    {
     "data": {
      "image/png": "[encoded data removed]",
      "text/plain": [
       "<Figure size 432x288 with 1 Axes>"
      ]
     },
     "metadata": {
      "needs_background": "light"
     },
     "output_type": "display_data"
    }
   ],
   "source": [
    "df['city'].plot()"
   ]
  },
  {
   "cell_type": "code",
   "execution_count": 89,
   "id": "68710bbc",
   "metadata": {},
   "outputs": [
    {
     "data": {
      "text/plain": [
       "<AxesSubplot:ylabel='Frequency'>"
      ]
     },
     "execution_count": 89,
     "metadata": {},
     "output_type": "execute_result"
    },
    {
     "data": {
      "image/png": "[encoded data removed]",
      "text/plain": [
       "<Figure size 432x288 with 1 Axes>"
      ]
     },
     "metadata": {
      "needs_background": "light"
     },
     "output_type": "display_data"
    }
   ],
   "source": [
    "df['city'].plot.hist(bins=100)"
   ]
  },
  {
   "cell_type": "code",
   "execution_count": 90,
   "id": "5f31b355",
   "metadata": {},
   "outputs": [
    {
     "data": {
      "text/plain": [
       "count    12.0000\n",
       "mean      2.5000\n",
       "std       0.6742\n",
       "min       2.0000\n",
       "25%       2.0000\n",
       "50%       2.0000\n",
       "75%       3.0000\n",
       "max       4.0000\n",
       "Name: education, dtype: float64"
      ]
     },
     "execution_count": 90,
     "metadata": {},
     "output_type": "execute_result"
    }
   ],
   "source": [
    "df['education'].describe()"
   ]
  },
  {
   "cell_type": "code",
   "execution_count": 91,
   "id": "a9586071",
   "metadata": {},
   "outputs": [
    {
     "data": {
      "text/plain": [
       "<AxesSubplot:ylabel='Frequency'>"
      ]
     },
     "execution_count": 91,
     "metadata": {},
     "output_type": "execute_result"
    },
    {
     "data": {
      "image/png": "[encoded data removed]",
      "text/plain": [
       "<Figure size 432x288 with 1 Axes>"
      ]
     },
     "metadata": {
      "needs_background": "light"
     },
     "output_type": "display_data"
    }
   ],
   "source": [
    "df['education'].plot.hist()"
   ]
  },
  {
   "cell_type": "code",
   "execution_count": 92,
   "id": "6053fee3",
   "metadata": {},
   "outputs": [
    {
     "data": {
      "text/plain": [
       "count    1.200000e+01\n",
       "mean     4.170875e+06\n",
       "std      1.443243e+07\n",
       "min      3.000000e+03\n",
       "25%      4.000000e+03\n",
       "50%      4.000000e+03\n",
       "75%      5.000000e+03\n",
       "max      5.000000e+07\n",
       "Name: salary, dtype: float64"
      ]
     },
     "execution_count": 92,
     "metadata": {},
     "output_type": "execute_result"
    }
   ],
   "source": [
    "df['salary'].describe()"
   ]
  },
  {
   "cell_type": "code",
   "execution_count": 93,
   "id": "860a122e",
   "metadata": {},
   "outputs": [
    {
     "data": {
      "text/plain": [
       "<AxesSubplot:ylabel='Frequency'>"
      ]
     },
     "execution_count": 93,
     "metadata": {},
     "output_type": "execute_result"
    },
    {
     "data": {
      "image/png": "[encoded data removed]",
      "text/plain": [
       "<Figure size 432x288 with 1 Axes>"
      ]
     },
     "metadata": {
      "needs_background": "light"
     },
     "output_type": "display_data"
    }
   ],
   "source": [
    "df['salary'].plot.hist()"
   ]
  },
  {
   "cell_type": "code",
   "execution_count": 94,
   "id": "2d3f1743",
   "metadata": {},
   "outputs": [
    {
     "data": {
      "text/html": [
       "<div>\n",
       "<style scoped>\n",
       "    .dataframe tbody tr th:only-of-type {\n",
       "        vertical-align: middle;\n",
       "    }\n",
       "\n",
       "    .dataframe tbody tr th {\n",
       "        vertical-align: top;\n",
       "    }\n",
       "\n",
       "    .dataframe thead tr th {\n",
       "        text-align: left;\n",
       "    }\n",
       "\n",
       "    .dataframe thead tr:last-of-type th {\n",
       "        text-align: right;\n",
       "    }\n",
       "</style>\n",
       "<table border=\"1\" class=\"dataframe\">\n",
       "  <thead>\n",
       "    <tr>\n",
       "      <th></th>\n",
       "      <th></th>\n",
       "      <th colspan=\"3\" halign=\"left\">salary</th>\n",
       "    </tr>\n",
       "    <tr>\n",
       "      <th></th>\n",
       "      <th></th>\n",
       "      <th>mean</th>\n",
       "      <th>min</th>\n",
       "      <th>max</th>\n",
       "    </tr>\n",
       "    <tr>\n",
       "      <th>age</th>\n",
       "      <th>gender</th>\n",
       "      <th></th>\n",
       "      <th></th>\n",
       "      <th></th>\n",
       "    </tr>\n",
       "  </thead>\n",
       "  <tbody>\n",
       "    <tr>\n",
       "      <th rowspan=\"2\" valign=\"top\">18 - 19 years old</th>\n",
       "      <th>Man</th>\n",
       "      <td>1.000000e+04</td>\n",
       "      <td>10000</td>\n",
       "      <td>10000</td>\n",
       "    </tr>\n",
       "    <tr>\n",
       "      <th>Woman</th>\n",
       "      <td>4.000000e+03</td>\n",
       "      <td>4000</td>\n",
       "      <td>4000</td>\n",
       "    </tr>\n",
       "    <tr>\n",
       "      <th rowspan=\"2\" valign=\"top\">20 - 21 years old</th>\n",
       "      <th>Man</th>\n",
       "      <td>4.000000e+03</td>\n",
       "      <td>4000</td>\n",
       "      <td>4000</td>\n",
       "    </tr>\n",
       "    <tr>\n",
       "      <th>Woman</th>\n",
       "      <td>4.071429e+03</td>\n",
       "      <td>3000</td>\n",
       "      <td>5000</td>\n",
       "    </tr>\n",
       "    <tr>\n",
       "      <th>22 - 23 years old</th>\n",
       "      <th>Do not wish to answer</th>\n",
       "      <td>5.000000e+07</td>\n",
       "      <td>50000000</td>\n",
       "      <td>50000000</td>\n",
       "    </tr>\n",
       "    <tr>\n",
       "      <th>23 - 24 years old</th>\n",
       "      <th>Man</th>\n",
       "      <td>4.000000e+03</td>\n",
       "      <td>4000</td>\n",
       "      <td>4000</td>\n",
       "    </tr>\n",
       "  </tbody>\n",
       "</table>\n",
       "</div>"
      ],
      "text/plain": [
       "                                               salary                    \n",
       "                                                 mean       min       max\n",
       "age               gender                                                 \n",
       "18 - 19 years old Man                    1.000000e+04     10000     10000\n",
       "                  Woman                  4.000000e+03      4000      4000\n",
       "20 - 21 years old Man                    4.000000e+03      4000      4000\n",
       "                  Woman                  4.071429e+03      3000      5000\n",
       "22 - 23 years old Do not wish to answer  5.000000e+07  50000000  50000000\n",
       "23 - 24 years old Man                    4.000000e+03      4000      4000"
      ]
     },
     "execution_count": 94,
     "metadata": {},
     "output_type": "execute_result"
    }
   ],
   "source": [
    "clean_df=df.loc[df['salary']<100000]    # .loc = sert à filtrer selon certains criteres ds []\n",
    "df.groupby(['age','gender']).agg({'salary': ['mean','min','max']})   # .agg = faie apparaitre le group by\n",
    "                                                                     # avec le salaire moyen,min, max"
   ]
  },
  {
   "cell_type": "code",
   "execution_count": 95,
   "id": "cefb38d1",
   "metadata": {},
   "outputs": [
    {
     "data": {
      "text/plain": [
       "0     6\n",
       "1     3\n",
       "2     2\n",
       "3     2\n",
       "4     2\n",
       "5     2\n",
       "6     5\n",
       "7     4\n",
       "8     3\n",
       "9     3\n",
       "10    3\n",
       "11    0\n",
       "Name: siblings, dtype: int64"
      ]
     },
     "execution_count": 95,
     "metadata": {},
     "output_type": "execute_result"
    }
   ],
   "source": [
    "df['siblings']"
   ]
  },
  {
   "cell_type": "code",
   "execution_count": 96,
   "id": "13bf3991",
   "metadata": {},
   "outputs": [],
   "source": [
    "def recode_siblings(nbr):\n",
    "    if nbr!=0: return nbr\n",
    "    else: return 1"
   ]
  },
  {
   "cell_type": "code",
   "execution_count": 97,
   "id": "e4555f3c",
   "metadata": {},
   "outputs": [
    {
     "data": {
      "text/plain": [
       "1"
      ]
     },
     "execution_count": 97,
     "metadata": {},
     "output_type": "execute_result"
    }
   ],
   "source": [
    "recode_siblings(0)"
   ]
  },
  {
   "cell_type": "code",
   "execution_count": 98,
   "id": "c47e8c35",
   "metadata": {
    "scrolled": true
   },
   "outputs": [
    {
     "data": {
      "text/plain": [
       "0     6\n",
       "1     3\n",
       "2     2\n",
       "3     2\n",
       "4     2\n",
       "5     2\n",
       "6     5\n",
       "7     4\n",
       "8     3\n",
       "9     3\n",
       "10    3\n",
       "11    1\n",
       "Name: siblings, dtype: int64"
      ]
     },
     "execution_count": 98,
     "metadata": {},
     "output_type": "execute_result"
    }
   ],
   "source": [
    "df['siblings'].map(recode_siblings)"
   ]
  },
  {
   "cell_type": "code",
   "execution_count": 99,
   "id": "4220cd32",
   "metadata": {},
   "outputs": [
    {
     "data": {
      "text/plain": [
       "20 - 21 years old    8\n",
       "18 - 19 years old    2\n",
       "22 - 23 years old    1\n",
       "23 - 24 years old    1\n",
       "Name: age, dtype: int64"
      ]
     },
     "execution_count": 99,
     "metadata": {},
     "output_type": "execute_result"
    }
   ],
   "source": [
    "df['age'].value_counts()"
   ]
  },
  {
   "cell_type": "code",
   "execution_count": 100,
   "id": "77628140",
   "metadata": {},
   "outputs": [
    {
     "data": {
      "text/plain": [
       "<AxesSubplot:>"
      ]
     },
     "execution_count": 100,
     "metadata": {},
     "output_type": "execute_result"
    },
    {
     "data": {
      "image/png": "[encoded data removed]",
      "text/plain": [
       "<Figure size 432x288 with 1 Axes>"
      ]
     },
     "metadata": {
      "needs_background": "light"
     },
     "output_type": "display_data"
    }
   ],
   "source": [
    "df['age'].value_counts().sort_index().plot.bar()"
   ]
  },
  {
   "cell_type": "code",
   "execution_count": 101,
   "id": "1b50fbdf",
   "metadata": {
    "scrolled": true
   },
   "outputs": [
    {
     "data": {
      "text/plain": [
       "0                     French baccalaureate\n",
       "1                                  Licence\n",
       "2                            Master or PhD\n",
       "3     Do not wish to answer / can't answer\n",
       "4     Do not wish to answer / can't answer\n",
       "5                            Master or PhD\n",
       "6                                  Licence\n",
       "7                               No diploma\n",
       "8                            Master or PhD\n",
       "9                                  Licence\n",
       "10    Do not wish to answer / can't answer\n",
       "11                           Master or PhD\n",
       "Name: mother_edu_level, dtype: object"
      ]
     },
     "execution_count": 101,
     "metadata": {},
     "output_type": "execute_result"
    }
   ],
   "source": [
    "df['mother_edu_level']"
   ]
  },
  {
   "cell_type": "code",
   "execution_count": 102,
   "id": "6a2f19a0",
   "metadata": {},
   "outputs": [],
   "source": [
    "d={'No diploma':0                                  #variables ordinales\n",
    "  ,'French baccalaureate':1\n",
    "  ,'Licence':2\n",
    "   ,'Master or PhD':3}\n",
    "\n",
    "df['father_edu_level']=df['father_edu_level'].map(d)\n",
    "df['mother_edu_level']=df['mother_edu_level'].map(d)"
   ]
  },
  {
   "cell_type": "code",
   "execution_count": 103,
   "id": "58fd9bb4",
   "metadata": {},
   "outputs": [],
   "source": [
    "df['parents_edu_level']=df['father_edu_level']+df['mother_edu_level']"
   ]
  },
  {
   "cell_type": "code",
   "execution_count": 104,
   "id": "ad914c3b",
   "metadata": {},
   "outputs": [
    {
     "data": {
      "text/plain": [
       "0     3.0\n",
       "1     4.0\n",
       "2     6.0\n",
       "3     NaN\n",
       "4     NaN\n",
       "5     6.0\n",
       "6     3.0\n",
       "7     0.0\n",
       "8     6.0\n",
       "9     4.0\n",
       "10    NaN\n",
       "11    5.0\n",
       "Name: parents_edu_level, dtype: float64"
      ]
     },
     "execution_count": 104,
     "metadata": {},
     "output_type": "execute_result"
    }
   ],
   "source": [
    "df['parents_edu_level']"
   ]
  },
  {
   "cell_type": "markdown",
   "id": "9d15ccb9",
   "metadata": {},
   "source": [
    "### size"
   ]
  },
  {
   "cell_type": "code",
   "execution_count": 105,
   "id": "c2782a66",
   "metadata": {
    "scrolled": true
   },
   "outputs": [
    {
     "data": {
      "text/plain": [
       "0           165\n",
       "1        175 cm\n",
       "2           171\n",
       "3           170\n",
       "4          1m60\n",
       "5           167\n",
       "6          1,65\n",
       "7           160\n",
       "8          1,88\n",
       "9        161 cm\n",
       "10          155\n",
       "11    1, 78 cms\n",
       "Name: size, dtype: object"
      ]
     },
     "execution_count": 105,
     "metadata": {},
     "output_type": "execute_result"
    }
   ],
   "source": [
    "df['size']"
   ]
  },
  {
   "cell_type": "code",
   "execution_count": 106,
   "id": "172e4d04",
   "metadata": {},
   "outputs": [
    {
     "data": {
      "text/plain": [
       "178"
      ]
     },
     "execution_count": 106,
     "metadata": {},
     "output_type": "execute_result"
    }
   ],
   "source": [
    "t=\"1,78 cms\"\n",
    "def recode_size(t):\n",
    "    x=\"\"\n",
    "    for cara in t:\n",
    "        if cara.isdigit():\n",
    "            x+=cara\n",
    "    return int(x)\n",
    "\n",
    "recode_size(t)"
   ]
  },
  {
   "cell_type": "code",
   "execution_count": 107,
   "id": "45388793",
   "metadata": {},
   "outputs": [],
   "source": [
    "df['size']=df['size'].map(recode_size)"
   ]
  },
  {
   "cell_type": "code",
   "execution_count": 108,
   "id": "0603d6c2",
   "metadata": {},
   "outputs": [
    {
     "ename": "TypeError",
     "evalue": "'int' object is not iterable",
     "output_type": "error",
     "traceback": [
      "\u001b[1;31m---------------------------------------------------------------------------\u001b[0m",
      "\u001b[1;31mTypeError\u001b[0m                                 Traceback (most recent call last)",
      "Input \u001b[1;32mIn [108]\u001b[0m, in \u001b[0;36m<cell line: 1>\u001b[1;34m()\u001b[0m\n\u001b[1;32m----> 1\u001b[0m df[\u001b[38;5;124m'\u001b[39m\u001b[38;5;124msize\u001b[39m\u001b[38;5;124m'\u001b[39m]\u001b[38;5;241m=\u001b[39m\u001b[43mdf\u001b[49m\u001b[43m[\u001b[49m\u001b[38;5;124;43m'\u001b[39;49m\u001b[38;5;124;43msize\u001b[39;49m\u001b[38;5;124;43m'\u001b[39;49m\u001b[43m]\u001b[49m\u001b[38;5;241;43m.\u001b[39;49m\u001b[43mmap\u001b[49m\u001b[43m(\u001b[49m\u001b[43mrecode_size\u001b[49m\u001b[43m)\u001b[49m\n",
      "File \u001b[1;32mC:\\ProgramData\\Anaconda3\\lib\\site-packages\\pandas\\core\\series.py:4237\u001b[0m, in \u001b[0;36mSeries.map\u001b[1;34m(self, arg, na_action)\u001b[0m\n\u001b[0;32m   4162\u001b[0m \u001b[38;5;28;01mdef\u001b[39;00m \u001b[38;5;21mmap\u001b[39m(\u001b[38;5;28mself\u001b[39m, arg, na_action\u001b[38;5;241m=\u001b[39m\u001b[38;5;28;01mNone\u001b[39;00m) \u001b[38;5;241m-\u001b[39m\u001b[38;5;241m>\u001b[39m Series:\n\u001b[0;32m   4163\u001b[0m     \u001b[38;5;124;03m\"\"\"\u001b[39;00m\n\u001b[0;32m   4164\u001b[0m \u001b[38;5;124;03m    Map values of Series according to an input mapping or function.\u001b[39;00m\n\u001b[0;32m   4165\u001b[0m \n\u001b[1;32m   (...)\u001b[0m\n\u001b[0;32m   4235\u001b[0m \u001b[38;5;124;03m    dtype: object\u001b[39;00m\n\u001b[0;32m   4236\u001b[0m \u001b[38;5;124;03m    \"\"\"\u001b[39;00m\n\u001b[1;32m-> 4237\u001b[0m     new_values \u001b[38;5;241m=\u001b[39m \u001b[38;5;28;43mself\u001b[39;49m\u001b[38;5;241;43m.\u001b[39;49m\u001b[43m_map_values\u001b[49m\u001b[43m(\u001b[49m\u001b[43marg\u001b[49m\u001b[43m,\u001b[49m\u001b[43m \u001b[49m\u001b[43mna_action\u001b[49m\u001b[38;5;241;43m=\u001b[39;49m\u001b[43mna_action\u001b[49m\u001b[43m)\u001b[49m\n\u001b[0;32m   4238\u001b[0m     \u001b[38;5;28;01mreturn\u001b[39;00m \u001b[38;5;28mself\u001b[39m\u001b[38;5;241m.\u001b[39m_constructor(new_values, index\u001b[38;5;241m=\u001b[39m\u001b[38;5;28mself\u001b[39m\u001b[38;5;241m.\u001b[39mindex)\u001b[38;5;241m.\u001b[39m__finalize__(\n\u001b[0;32m   4239\u001b[0m         \u001b[38;5;28mself\u001b[39m, method\u001b[38;5;241m=\u001b[39m\u001b[38;5;124m\"\u001b[39m\u001b[38;5;124mmap\u001b[39m\u001b[38;5;124m\"\u001b[39m\n\u001b[0;32m   4240\u001b[0m     )\n",
      "File \u001b[1;32mC:\\ProgramData\\Anaconda3\\lib\\site-packages\\pandas\\core\\base.py:880\u001b[0m, in \u001b[0;36mIndexOpsMixin._map_values\u001b[1;34m(self, mapper, na_action)\u001b[0m\n\u001b[0;32m    877\u001b[0m         \u001b[38;5;28;01mraise\u001b[39;00m \u001b[38;5;167;01mValueError\u001b[39;00m(msg)\n\u001b[0;32m    879\u001b[0m \u001b[38;5;66;03m# mapper is a function\u001b[39;00m\n\u001b[1;32m--> 880\u001b[0m new_values \u001b[38;5;241m=\u001b[39m \u001b[43mmap_f\u001b[49m\u001b[43m(\u001b[49m\u001b[43mvalues\u001b[49m\u001b[43m,\u001b[49m\u001b[43m \u001b[49m\u001b[43mmapper\u001b[49m\u001b[43m)\u001b[49m\n\u001b[0;32m    882\u001b[0m \u001b[38;5;28;01mreturn\u001b[39;00m new_values\n",
      "File \u001b[1;32mC:\\ProgramData\\Anaconda3\\lib\\site-packages\\pandas\\_libs\\lib.pyx:2870\u001b[0m, in \u001b[0;36mpandas._libs.lib.map_infer\u001b[1;34m()\u001b[0m\n",
      "Input \u001b[1;32mIn [106]\u001b[0m, in \u001b[0;36mrecode_size\u001b[1;34m(t)\u001b[0m\n\u001b[0;32m      2\u001b[0m \u001b[38;5;28;01mdef\u001b[39;00m \u001b[38;5;21mrecode_size\u001b[39m(t):\n\u001b[0;32m      3\u001b[0m     x\u001b[38;5;241m=\u001b[39m\u001b[38;5;124m\"\u001b[39m\u001b[38;5;124m\"\u001b[39m\n\u001b[1;32m----> 4\u001b[0m     \u001b[38;5;28;01mfor\u001b[39;00m cara \u001b[38;5;129;01min\u001b[39;00m t:\n\u001b[0;32m      5\u001b[0m         \u001b[38;5;28;01mif\u001b[39;00m cara\u001b[38;5;241m.\u001b[39misdigit():\n\u001b[0;32m      6\u001b[0m             x\u001b[38;5;241m+\u001b[39m\u001b[38;5;241m=\u001b[39mcara\n",
      "\u001b[1;31mTypeError\u001b[0m: 'int' object is not iterable"
     ]
    }
   ],
   "source": [
    "df['size']=df['size'].map(recode_size)"
   ]
  },
  {
   "cell_type": "markdown",
   "id": "656b73fe",
   "metadata": {},
   "source": [
    "### gender"
   ]
  },
  {
   "cell_type": "code",
   "execution_count": 109,
   "id": "71b13fa8",
   "metadata": {},
   "outputs": [
    {
     "data": {
      "text/plain": [
       "0                     Woman\n",
       "1                     Woman\n",
       "2                       Man\n",
       "3                     Woman\n",
       "4                     Woman\n",
       "5                     Woman\n",
       "6                     Woman\n",
       "7     Do not wish to answer\n",
       "8                       Man\n",
       "9                     Woman\n",
       "10                    Woman\n",
       "11                      Man\n",
       "Name: gender, dtype: object"
      ]
     },
     "execution_count": 109,
     "metadata": {},
     "output_type": "execute_result"
    }
   ],
   "source": [
    "df['gender']"
   ]
  },
  {
   "cell_type": "code",
   "execution_count": 110,
   "id": "0212230f",
   "metadata": {},
   "outputs": [
    {
     "data": {
      "text/plain": [
       "Woman                    8\n",
       "Man                      3\n",
       "Do not wish to answer    1\n",
       "Name: gender, dtype: int64"
      ]
     },
     "execution_count": 110,
     "metadata": {},
     "output_type": "execute_result"
    }
   ],
   "source": [
    "df['gender'].value_counts()"
   ]
  },
  {
   "cell_type": "code",
   "execution_count": 111,
   "id": "2ef60c31",
   "metadata": {},
   "outputs": [
    {
     "data": {
      "text/plain": [
       "0     False\n",
       "1     False\n",
       "2      True\n",
       "3     False\n",
       "4     False\n",
       "5     False\n",
       "6     False\n",
       "7     False\n",
       "8      True\n",
       "9     False\n",
       "10    False\n",
       "11     True\n",
       "Name: gender, dtype: bool"
      ]
     },
     "execution_count": 111,
     "metadata": {},
     "output_type": "execute_result"
    }
   ],
   "source": [
    "df['gender']=='Man'"
   ]
  },
  {
   "cell_type": "code",
   "execution_count": 112,
   "id": "1d7b7ecf",
   "metadata": {},
   "outputs": [
    {
     "data": {
      "text/html": [
       "<div>\n",
       "<style scoped>\n",
       "    .dataframe tbody tr th:only-of-type {\n",
       "        vertical-align: middle;\n",
       "    }\n",
       "\n",
       "    .dataframe tbody tr th {\n",
       "        vertical-align: top;\n",
       "    }\n",
       "\n",
       "    .dataframe thead th {\n",
       "        text-align: right;\n",
       "    }\n",
       "</style>\n",
       "<table border=\"1\" class=\"dataframe\">\n",
       "  <thead>\n",
       "    <tr style=\"text-align: right;\">\n",
       "      <th></th>\n",
       "      <th>city</th>\n",
       "      <th>education</th>\n",
       "      <th>salary</th>\n",
       "      <th>siblings</th>\n",
       "      <th>age</th>\n",
       "      <th>mother_edu_level</th>\n",
       "      <th>father_edu_level</th>\n",
       "      <th>size</th>\n",
       "      <th>gender</th>\n",
       "      <th>pets</th>\n",
       "      <th>tv_show</th>\n",
       "      <th>parents_edu_level</th>\n",
       "    </tr>\n",
       "  </thead>\n",
       "  <tbody>\n",
       "    <tr>\n",
       "      <th>2</th>\n",
       "      <td>5000</td>\n",
       "      <td>2</td>\n",
       "      <td>10000</td>\n",
       "      <td>2</td>\n",
       "      <td>18 - 19 years old</td>\n",
       "      <td>3.0</td>\n",
       "      <td>3.0</td>\n",
       "      <td>171</td>\n",
       "      <td>Man</td>\n",
       "      <td>Cat, Komodo dragon, Crocodile</td>\n",
       "      <td>Survivor</td>\n",
       "      <td>6.0</td>\n",
       "    </tr>\n",
       "    <tr>\n",
       "      <th>8</th>\n",
       "      <td>8000</td>\n",
       "      <td>3</td>\n",
       "      <td>4000</td>\n",
       "      <td>3</td>\n",
       "      <td>20 - 21 years old</td>\n",
       "      <td>3.0</td>\n",
       "      <td>3.0</td>\n",
       "      <td>188</td>\n",
       "      <td>Man</td>\n",
       "      <td>Lion, chat, kangourou</td>\n",
       "      <td>Obx</td>\n",
       "      <td>6.0</td>\n",
       "    </tr>\n",
       "    <tr>\n",
       "      <th>11</th>\n",
       "      <td>17000</td>\n",
       "      <td>3</td>\n",
       "      <td>4000</td>\n",
       "      <td>0</td>\n",
       "      <td>23 - 24 years old</td>\n",
       "      <td>3.0</td>\n",
       "      <td>2.0</td>\n",
       "      <td>178</td>\n",
       "      <td>Man</td>\n",
       "      <td>cat, fish, turtle</td>\n",
       "      <td>The ofice</td>\n",
       "      <td>5.0</td>\n",
       "    </tr>\n",
       "  </tbody>\n",
       "</table>\n",
       "</div>"
      ],
      "text/plain": [
       "     city  education  salary  siblings                age  mother_edu_level  \\\n",
       "2    5000          2   10000         2  18 - 19 years old               3.0   \n",
       "8    8000          3    4000         3  20 - 21 years old               3.0   \n",
       "11  17000          3    4000         0  23 - 24 years old               3.0   \n",
       "\n",
       "    father_edu_level  size gender                           pets    tv_show  \\\n",
       "2                3.0   171    Man  Cat, Komodo dragon, Crocodile   Survivor   \n",
       "8                3.0   188    Man          Lion, chat, kangourou        Obx   \n",
       "11               2.0   178    Man              cat, fish, turtle  The ofice   \n",
       "\n",
       "    parents_edu_level  \n",
       "2                 6.0  \n",
       "8                 6.0  \n",
       "11                5.0  "
      ]
     },
     "execution_count": 112,
     "metadata": {},
     "output_type": "execute_result"
    }
   ],
   "source": [
    "df.loc[df['gender']=='Man']"
   ]
  },
  {
   "cell_type": "code",
   "execution_count": 113,
   "id": "5650420f",
   "metadata": {},
   "outputs": [
    {
     "data": {
      "text/plain": [
       "0      True\n",
       "1      True\n",
       "2     False\n",
       "3      True\n",
       "4      True\n",
       "5     False\n",
       "6     False\n",
       "7     False\n",
       "8      True\n",
       "9      True\n",
       "10     True\n",
       "11     True\n",
       "Name: salary, dtype: bool"
      ]
     },
     "execution_count": 113,
     "metadata": {},
     "output_type": "execute_result"
    }
   ],
   "source": [
    "df['salary']<4500"
   ]
  },
  {
   "cell_type": "code",
   "execution_count": 114,
   "id": "3369ae7f",
   "metadata": {},
   "outputs": [
    {
     "data": {
      "text/html": [
       "<div>\n",
       "<style scoped>\n",
       "    .dataframe tbody tr th:only-of-type {\n",
       "        vertical-align: middle;\n",
       "    }\n",
       "\n",
       "    .dataframe tbody tr th {\n",
       "        vertical-align: top;\n",
       "    }\n",
       "\n",
       "    .dataframe thead th {\n",
       "        text-align: right;\n",
       "    }\n",
       "</style>\n",
       "<table border=\"1\" class=\"dataframe\">\n",
       "  <thead>\n",
       "    <tr style=\"text-align: right;\">\n",
       "      <th></th>\n",
       "      <th>city</th>\n",
       "      <th>education</th>\n",
       "      <th>salary</th>\n",
       "      <th>siblings</th>\n",
       "      <th>age</th>\n",
       "      <th>mother_edu_level</th>\n",
       "      <th>father_edu_level</th>\n",
       "      <th>size</th>\n",
       "      <th>gender</th>\n",
       "      <th>pets</th>\n",
       "      <th>tv_show</th>\n",
       "      <th>parents_edu_level</th>\n",
       "    </tr>\n",
       "  </thead>\n",
       "  <tbody>\n",
       "    <tr>\n",
       "      <th>5</th>\n",
       "      <td>18203</td>\n",
       "      <td>3</td>\n",
       "      <td>5000</td>\n",
       "      <td>2</td>\n",
       "      <td>20 - 21 years old</td>\n",
       "      <td>3.0</td>\n",
       "      <td>3.0</td>\n",
       "      <td>167</td>\n",
       "      <td>Woman</td>\n",
       "      <td>Dog, sheep, goose</td>\n",
       "      <td>the Witcher</td>\n",
       "      <td>6.0</td>\n",
       "    </tr>\n",
       "    <tr>\n",
       "      <th>6</th>\n",
       "      <td>100000</td>\n",
       "      <td>2</td>\n",
       "      <td>5000</td>\n",
       "      <td>5</td>\n",
       "      <td>20 - 21 years old</td>\n",
       "      <td>2.0</td>\n",
       "      <td>1.0</td>\n",
       "      <td>165</td>\n",
       "      <td>Woman</td>\n",
       "      <td>Cat, rabbit, dog</td>\n",
       "      <td>Television news</td>\n",
       "      <td>3.0</td>\n",
       "    </tr>\n",
       "  </tbody>\n",
       "</table>\n",
       "</div>"
      ],
      "text/plain": [
       "     city  education  salary  siblings                age  mother_edu_level  \\\n",
       "5   18203          3    5000         2  20 - 21 years old               3.0   \n",
       "6  100000          2    5000         5  20 - 21 years old               2.0   \n",
       "\n",
       "   father_edu_level  size gender               pets           tv_show  \\\n",
       "5               3.0   167  Woman  Dog, sheep, goose       the Witcher   \n",
       "6               1.0   165  Woman   Cat, rabbit, dog   Television news   \n",
       "\n",
       "   parents_edu_level  \n",
       "5                6.0  \n",
       "6                3.0  "
      ]
     },
     "execution_count": 114,
     "metadata": {},
     "output_type": "execute_result"
    }
   ],
   "source": [
    "df.loc[(df['gender']=='Woman') & (df['salary']>4500)]"
   ]
  },
  {
   "cell_type": "code",
   "execution_count": 115,
   "id": "ab191788",
   "metadata": {},
   "outputs": [
    {
     "data": {
      "text/plain": [
       "0                  BIRD, SNAKE, CAT\n",
       "1                giraffe, cat, swan\n",
       "2     Cat, Komodo dragon, Crocodile\n",
       "3             dogs, parrot, hamster\n",
       "4             dog,guinea pig,turtle\n",
       "5                 Dog, sheep, goose\n",
       "6                  Cat, rabbit, dog\n",
       "7                je ne les aime pas\n",
       "8             Lion, chat, kangourou\n",
       "9                  Cat, rabbit, dog\n",
       "10                              Cat\n",
       "11                cat, fish, turtle\n",
       "Name: pets, dtype: object"
      ]
     },
     "execution_count": 115,
     "metadata": {},
     "output_type": "execute_result"
    }
   ],
   "source": [
    "df['pets']"
   ]
  },
  {
   "cell_type": "code",
   "execution_count": 116,
   "id": "b856461a",
   "metadata": {},
   "outputs": [
    {
     "data": {
      "text/plain": [
       "['Cat; Komodoro dragon', ' Crocodile']"
      ]
     },
     "execution_count": 116,
     "metadata": {},
     "output_type": "execute_result"
    }
   ],
   "source": [
    "p=\"Cat; Komodoro dragon, Crocodile\"\n",
    "p.split(',')"
   ]
  },
  {
   "cell_type": "code",
   "execution_count": 117,
   "id": "96657b65",
   "metadata": {},
   "outputs": [],
   "source": [
    "df[['pet1','pet2','pet3']]=df['pets'].str.lower().str.split(',',expand=True)   #pr animaux creation 3 col pour\n",
    "                                                                               # chaque animal"
   ]
  },
  {
   "cell_type": "code",
   "execution_count": 118,
   "id": "f509e10d",
   "metadata": {},
   "outputs": [
    {
     "data": {
      "text/html": [
       "<div>\n",
       "<style scoped>\n",
       "    .dataframe tbody tr th:only-of-type {\n",
       "        vertical-align: middle;\n",
       "    }\n",
       "\n",
       "    .dataframe tbody tr th {\n",
       "        vertical-align: top;\n",
       "    }\n",
       "\n",
       "    .dataframe thead th {\n",
       "        text-align: right;\n",
       "    }\n",
       "</style>\n",
       "<table border=\"1\" class=\"dataframe\">\n",
       "  <thead>\n",
       "    <tr style=\"text-align: right;\">\n",
       "      <th></th>\n",
       "      <th>city</th>\n",
       "      <th>education</th>\n",
       "      <th>salary</th>\n",
       "      <th>siblings</th>\n",
       "      <th>age</th>\n",
       "      <th>mother_edu_level</th>\n",
       "      <th>father_edu_level</th>\n",
       "      <th>size</th>\n",
       "      <th>gender</th>\n",
       "      <th>pets</th>\n",
       "      <th>tv_show</th>\n",
       "      <th>parents_edu_level</th>\n",
       "      <th>pet1</th>\n",
       "      <th>pet2</th>\n",
       "      <th>pet3</th>\n",
       "    </tr>\n",
       "  </thead>\n",
       "  <tbody>\n",
       "    <tr>\n",
       "      <th>0</th>\n",
       "      <td>105142</td>\n",
       "      <td>2</td>\n",
       "      <td>3500</td>\n",
       "      <td>6</td>\n",
       "      <td>20 - 21 years old</td>\n",
       "      <td>1.0</td>\n",
       "      <td>2.0</td>\n",
       "      <td>165</td>\n",
       "      <td>Woman</td>\n",
       "      <td>BIRD, SNAKE, CAT</td>\n",
       "      <td>le meilleur patissier</td>\n",
       "      <td>3.0</td>\n",
       "      <td>bird</td>\n",
       "      <td>snake</td>\n",
       "      <td>cat</td>\n",
       "    </tr>\n",
       "  </tbody>\n",
       "</table>\n",
       "</div>"
      ],
      "text/plain": [
       "     city  education  salary  siblings                age  mother_edu_level  \\\n",
       "0  105142          2    3500         6  20 - 21 years old               1.0   \n",
       "\n",
       "   father_edu_level  size gender              pets                tv_show  \\\n",
       "0               2.0   165  Woman  BIRD, SNAKE, CAT  le meilleur patissier   \n",
       "\n",
       "   parents_edu_level  pet1    pet2  pet3  \n",
       "0                3.0  bird   snake   cat  "
      ]
     },
     "execution_count": 118,
     "metadata": {},
     "output_type": "execute_result"
    }
   ],
   "source": [
    "df.head(1)"
   ]
  },
  {
   "cell_type": "markdown",
   "id": "727fd38a",
   "metadata": {},
   "source": [
    "### corrélation"
   ]
  },
  {
   "cell_type": "code",
   "execution_count": 119,
   "id": "ad53ebfd",
   "metadata": {},
   "outputs": [],
   "source": [
    "def recode_gender(s):\n",
    "    if s==\"Woman\":\n",
    "        return 1\n",
    "    elif s==\"Man\":\n",
    "        return 0\n",
    "    else : return None"
   ]
  },
  {
   "cell_type": "code",
   "execution_count": 120,
   "id": "7dd66e04",
   "metadata": {},
   "outputs": [],
   "source": [
    "df['gender_num']=df['gender'].map(recode_gender)"
   ]
  },
  {
   "cell_type": "code",
   "execution_count": 121,
   "id": "b4e9aa78",
   "metadata": {},
   "outputs": [],
   "source": [
    "# Filtrez le df pour ne pas prendre les valeurs qui sont supérieures\n",
    "# a la moyenne + 3 fois l'ecart type"
   ]
  },
  {
   "cell_type": "code",
   "execution_count": 122,
   "id": "8da32402",
   "metadata": {
    "scrolled": true
   },
   "outputs": [
    {
     "data": {
      "text/plain": [
       "4170875.0"
      ]
     },
     "execution_count": 122,
     "metadata": {},
     "output_type": "execute_result"
    }
   ],
   "source": [
    "df['salary'].mean()"
   ]
  },
  {
   "cell_type": "code",
   "execution_count": 123,
   "id": "e22e13f6",
   "metadata": {},
   "outputs": [
    {
     "data": {
      "text/plain": [
       "14432431.55996087"
      ]
     },
     "execution_count": 123,
     "metadata": {},
     "output_type": "execute_result"
    }
   ],
   "source": [
    "df['salary'].std()"
   ]
  },
  {
   "cell_type": "code",
   "execution_count": 124,
   "id": "00bd4443",
   "metadata": {},
   "outputs": [
    {
     "data": {
      "text/html": [
       "<div>\n",
       "<style scoped>\n",
       "    .dataframe tbody tr th:only-of-type {\n",
       "        vertical-align: middle;\n",
       "    }\n",
       "\n",
       "    .dataframe tbody tr th {\n",
       "        vertical-align: top;\n",
       "    }\n",
       "\n",
       "    .dataframe thead th {\n",
       "        text-align: right;\n",
       "    }\n",
       "</style>\n",
       "<table border=\"1\" class=\"dataframe\">\n",
       "  <thead>\n",
       "    <tr style=\"text-align: right;\">\n",
       "      <th></th>\n",
       "      <th>city</th>\n",
       "      <th>education</th>\n",
       "      <th>salary</th>\n",
       "      <th>siblings</th>\n",
       "      <th>age</th>\n",
       "      <th>mother_edu_level</th>\n",
       "      <th>father_edu_level</th>\n",
       "      <th>size</th>\n",
       "      <th>gender</th>\n",
       "      <th>pets</th>\n",
       "      <th>tv_show</th>\n",
       "      <th>parents_edu_level</th>\n",
       "      <th>pet1</th>\n",
       "      <th>pet2</th>\n",
       "      <th>pet3</th>\n",
       "      <th>gender_num</th>\n",
       "    </tr>\n",
       "  </thead>\n",
       "  <tbody>\n",
       "    <tr>\n",
       "      <th>0</th>\n",
       "      <td>105142</td>\n",
       "      <td>2</td>\n",
       "      <td>3500</td>\n",
       "      <td>6</td>\n",
       "      <td>20 - 21 years old</td>\n",
       "      <td>1.0</td>\n",
       "      <td>2.0</td>\n",
       "      <td>165</td>\n",
       "      <td>Woman</td>\n",
       "      <td>BIRD, SNAKE, CAT</td>\n",
       "      <td>le meilleur patissier</td>\n",
       "      <td>3.0</td>\n",
       "      <td>bird</td>\n",
       "      <td>snake</td>\n",
       "      <td>cat</td>\n",
       "      <td>1.0</td>\n",
       "    </tr>\n",
       "    <tr>\n",
       "      <th>1</th>\n",
       "      <td>40</td>\n",
       "      <td>2</td>\n",
       "      <td>4000</td>\n",
       "      <td>3</td>\n",
       "      <td>18 - 19 years old</td>\n",
       "      <td>2.0</td>\n",
       "      <td>2.0</td>\n",
       "      <td>175</td>\n",
       "      <td>Woman</td>\n",
       "      <td>giraffe, cat, swan</td>\n",
       "      <td>brooklyn 99</td>\n",
       "      <td>4.0</td>\n",
       "      <td>giraffe</td>\n",
       "      <td>cat</td>\n",
       "      <td>swan</td>\n",
       "      <td>1.0</td>\n",
       "    </tr>\n",
       "    <tr>\n",
       "      <th>2</th>\n",
       "      <td>5000</td>\n",
       "      <td>2</td>\n",
       "      <td>10000</td>\n",
       "      <td>2</td>\n",
       "      <td>18 - 19 years old</td>\n",
       "      <td>3.0</td>\n",
       "      <td>3.0</td>\n",
       "      <td>171</td>\n",
       "      <td>Man</td>\n",
       "      <td>Cat, Komodo dragon, Crocodile</td>\n",
       "      <td>Survivor</td>\n",
       "      <td>6.0</td>\n",
       "      <td>cat</td>\n",
       "      <td>komodo dragon</td>\n",
       "      <td>crocodile</td>\n",
       "      <td>0.0</td>\n",
       "    </tr>\n",
       "    <tr>\n",
       "      <th>3</th>\n",
       "      <td>24000</td>\n",
       "      <td>2</td>\n",
       "      <td>4000</td>\n",
       "      <td>2</td>\n",
       "      <td>20 - 21 years old</td>\n",
       "      <td>NaN</td>\n",
       "      <td>2.0</td>\n",
       "      <td>170</td>\n",
       "      <td>Woman</td>\n",
       "      <td>dogs, parrot, hamster</td>\n",
       "      <td>Touche Pas A Mon Poste</td>\n",
       "      <td>NaN</td>\n",
       "      <td>dogs</td>\n",
       "      <td>parrot</td>\n",
       "      <td>hamster</td>\n",
       "      <td>1.0</td>\n",
       "    </tr>\n",
       "    <tr>\n",
       "      <th>4</th>\n",
       "      <td>10000</td>\n",
       "      <td>2</td>\n",
       "      <td>4000</td>\n",
       "      <td>2</td>\n",
       "      <td>20 - 21 years old</td>\n",
       "      <td>NaN</td>\n",
       "      <td>NaN</td>\n",
       "      <td>160</td>\n",
       "      <td>Woman</td>\n",
       "      <td>dog,guinea pig,turtle</td>\n",
       "      <td>The Office</td>\n",
       "      <td>NaN</td>\n",
       "      <td>dog</td>\n",
       "      <td>guinea pig</td>\n",
       "      <td>turtle</td>\n",
       "      <td>1.0</td>\n",
       "    </tr>\n",
       "    <tr>\n",
       "      <th>5</th>\n",
       "      <td>18203</td>\n",
       "      <td>3</td>\n",
       "      <td>5000</td>\n",
       "      <td>2</td>\n",
       "      <td>20 - 21 years old</td>\n",
       "      <td>3.0</td>\n",
       "      <td>3.0</td>\n",
       "      <td>167</td>\n",
       "      <td>Woman</td>\n",
       "      <td>Dog, sheep, goose</td>\n",
       "      <td>the Witcher</td>\n",
       "      <td>6.0</td>\n",
       "      <td>dog</td>\n",
       "      <td>sheep</td>\n",
       "      <td>goose</td>\n",
       "      <td>1.0</td>\n",
       "    </tr>\n",
       "    <tr>\n",
       "      <th>6</th>\n",
       "      <td>100000</td>\n",
       "      <td>2</td>\n",
       "      <td>5000</td>\n",
       "      <td>5</td>\n",
       "      <td>20 - 21 years old</td>\n",
       "      <td>2.0</td>\n",
       "      <td>1.0</td>\n",
       "      <td>165</td>\n",
       "      <td>Woman</td>\n",
       "      <td>Cat, rabbit, dog</td>\n",
       "      <td>Television news</td>\n",
       "      <td>3.0</td>\n",
       "      <td>cat</td>\n",
       "      <td>rabbit</td>\n",
       "      <td>dog</td>\n",
       "      <td>1.0</td>\n",
       "    </tr>\n",
       "    <tr>\n",
       "      <th>8</th>\n",
       "      <td>8000</td>\n",
       "      <td>3</td>\n",
       "      <td>4000</td>\n",
       "      <td>3</td>\n",
       "      <td>20 - 21 years old</td>\n",
       "      <td>3.0</td>\n",
       "      <td>3.0</td>\n",
       "      <td>188</td>\n",
       "      <td>Man</td>\n",
       "      <td>Lion, chat, kangourou</td>\n",
       "      <td>Obx</td>\n",
       "      <td>6.0</td>\n",
       "      <td>lion</td>\n",
       "      <td>chat</td>\n",
       "      <td>kangourou</td>\n",
       "      <td>0.0</td>\n",
       "    </tr>\n",
       "    <tr>\n",
       "      <th>9</th>\n",
       "      <td>6000</td>\n",
       "      <td>3</td>\n",
       "      <td>3000</td>\n",
       "      <td>3</td>\n",
       "      <td>20 - 21 years old</td>\n",
       "      <td>2.0</td>\n",
       "      <td>2.0</td>\n",
       "      <td>161</td>\n",
       "      <td>Woman</td>\n",
       "      <td>Cat, rabbit, dog</td>\n",
       "      <td>Malcom in the middle</td>\n",
       "      <td>4.0</td>\n",
       "      <td>cat</td>\n",
       "      <td>rabbit</td>\n",
       "      <td>dog</td>\n",
       "      <td>1.0</td>\n",
       "    </tr>\n",
       "    <tr>\n",
       "      <th>10</th>\n",
       "      <td>860000</td>\n",
       "      <td>4</td>\n",
       "      <td>4000</td>\n",
       "      <td>3</td>\n",
       "      <td>20 - 21 years old</td>\n",
       "      <td>NaN</td>\n",
       "      <td>2.0</td>\n",
       "      <td>155</td>\n",
       "      <td>Woman</td>\n",
       "      <td>Cat</td>\n",
       "      <td>Le juste prix !</td>\n",
       "      <td>NaN</td>\n",
       "      <td>cat</td>\n",
       "      <td>None</td>\n",
       "      <td>None</td>\n",
       "      <td>1.0</td>\n",
       "    </tr>\n",
       "    <tr>\n",
       "      <th>11</th>\n",
       "      <td>17000</td>\n",
       "      <td>3</td>\n",
       "      <td>4000</td>\n",
       "      <td>0</td>\n",
       "      <td>23 - 24 years old</td>\n",
       "      <td>3.0</td>\n",
       "      <td>2.0</td>\n",
       "      <td>178</td>\n",
       "      <td>Man</td>\n",
       "      <td>cat, fish, turtle</td>\n",
       "      <td>The ofice</td>\n",
       "      <td>5.0</td>\n",
       "      <td>cat</td>\n",
       "      <td>fish</td>\n",
       "      <td>turtle</td>\n",
       "      <td>0.0</td>\n",
       "    </tr>\n",
       "  </tbody>\n",
       "</table>\n",
       "</div>"
      ],
      "text/plain": [
       "      city  education  salary  siblings                age  mother_edu_level  \\\n",
       "0   105142          2    3500         6  20 - 21 years old               1.0   \n",
       "1       40          2    4000         3  18 - 19 years old               2.0   \n",
       "2     5000          2   10000         2  18 - 19 years old               3.0   \n",
       "3    24000          2    4000         2  20 - 21 years old               NaN   \n",
       "4    10000          2    4000         2  20 - 21 years old               NaN   \n",
       "5    18203          3    5000         2  20 - 21 years old               3.0   \n",
       "6   100000          2    5000         5  20 - 21 years old               2.0   \n",
       "8     8000          3    4000         3  20 - 21 years old               3.0   \n",
       "9     6000          3    3000         3  20 - 21 years old               2.0   \n",
       "10  860000          4    4000         3  20 - 21 years old               NaN   \n",
       "11   17000          3    4000         0  23 - 24 years old               3.0   \n",
       "\n",
       "    father_edu_level  size gender                           pets  \\\n",
       "0                2.0   165  Woman               BIRD, SNAKE, CAT   \n",
       "1                2.0   175  Woman             giraffe, cat, swan   \n",
       "2                3.0   171    Man  Cat, Komodo dragon, Crocodile   \n",
       "3                2.0   170  Woman          dogs, parrot, hamster   \n",
       "4                NaN   160  Woman          dog,guinea pig,turtle   \n",
       "5                3.0   167  Woman              Dog, sheep, goose   \n",
       "6                1.0   165  Woman               Cat, rabbit, dog   \n",
       "8                3.0   188    Man          Lion, chat, kangourou   \n",
       "9                2.0   161  Woman               Cat, rabbit, dog   \n",
       "10               2.0   155  Woman                            Cat   \n",
       "11               2.0   178    Man              cat, fish, turtle   \n",
       "\n",
       "                   tv_show  parents_edu_level     pet1            pet2  \\\n",
       "0    le meilleur patissier                3.0     bird           snake   \n",
       "1              brooklyn 99                4.0  giraffe             cat   \n",
       "2                 Survivor                6.0      cat   komodo dragon   \n",
       "3   Touche Pas A Mon Poste                NaN     dogs          parrot   \n",
       "4               The Office                NaN      dog      guinea pig   \n",
       "5              the Witcher                6.0      dog           sheep   \n",
       "6          Television news                3.0      cat          rabbit   \n",
       "8                      Obx                6.0     lion            chat   \n",
       "9     Malcom in the middle                4.0      cat          rabbit   \n",
       "10         Le juste prix !                NaN      cat            None   \n",
       "11               The ofice                5.0      cat            fish   \n",
       "\n",
       "          pet3  gender_num  \n",
       "0          cat         1.0  \n",
       "1         swan         1.0  \n",
       "2    crocodile         0.0  \n",
       "3      hamster         1.0  \n",
       "4       turtle         1.0  \n",
       "5        goose         1.0  \n",
       "6          dog         1.0  \n",
       "8    kangourou         0.0  \n",
       "9          dog         1.0  \n",
       "10        None         1.0  \n",
       "11      turtle         0.0  "
      ]
     },
     "execution_count": 124,
     "metadata": {},
     "output_type": "execute_result"
    }
   ],
   "source": [
    "(df.loc[df['salary'].between\n",
    "       (df['salary'].mean()-3*df['salary'].std(),\n",
    "       df['salary'].mean()+3*df['salary'].std())])"
   ]
  },
  {
   "cell_type": "code",
   "execution_count": 125,
   "id": "45652a1f",
   "metadata": {},
   "outputs": [],
   "source": [
    "def remove_outliers(s):\n",
    "    return s.loc[s.between(s.mean()-3*s.std(),\n",
    "                           s.mean()+3*s.std())]"
   ]
  },
  {
   "cell_type": "code",
   "execution_count": 126,
   "id": "f3dadac3",
   "metadata": {},
   "outputs": [
    {
     "data": {
      "text/plain": [
       "0     105142\n",
       "1         40\n",
       "2       5000\n",
       "3      24000\n",
       "4      10000\n",
       "5      18203\n",
       "6     100000\n",
       "7     171057\n",
       "8       8000\n",
       "9       6000\n",
       "11     17000\n",
       "Name: city, dtype: int64"
      ]
     },
     "execution_count": 126,
     "metadata": {},
     "output_type": "execute_result"
    }
   ],
   "source": [
    "remove_outliers(df['city'])"
   ]
  },
  {
   "cell_type": "code",
   "execution_count": 127,
   "id": "72a2bfa0",
   "metadata": {},
   "outputs": [
    {
     "data": {
      "text/html": [
       "<div>\n",
       "<style scoped>\n",
       "    .dataframe tbody tr th:only-of-type {\n",
       "        vertical-align: middle;\n",
       "    }\n",
       "\n",
       "    .dataframe tbody tr th {\n",
       "        vertical-align: top;\n",
       "    }\n",
       "\n",
       "    .dataframe thead th {\n",
       "        text-align: right;\n",
       "    }\n",
       "</style>\n",
       "<table border=\"1\" class=\"dataframe\">\n",
       "  <thead>\n",
       "    <tr style=\"text-align: right;\">\n",
       "      <th></th>\n",
       "      <th>city</th>\n",
       "      <th>education</th>\n",
       "      <th>salary</th>\n",
       "      <th>siblings</th>\n",
       "      <th>mother_edu_level</th>\n",
       "      <th>father_edu_level</th>\n",
       "      <th>size</th>\n",
       "      <th>parents_edu_level</th>\n",
       "      <th>gender_num</th>\n",
       "    </tr>\n",
       "  </thead>\n",
       "  <tbody>\n",
       "    <tr>\n",
       "      <th>0</th>\n",
       "      <td>105142</td>\n",
       "      <td>2</td>\n",
       "      <td>3500</td>\n",
       "      <td>6</td>\n",
       "      <td>1.0</td>\n",
       "      <td>2.0</td>\n",
       "      <td>165</td>\n",
       "      <td>3.0</td>\n",
       "      <td>1.0</td>\n",
       "    </tr>\n",
       "    <tr>\n",
       "      <th>1</th>\n",
       "      <td>40</td>\n",
       "      <td>2</td>\n",
       "      <td>4000</td>\n",
       "      <td>3</td>\n",
       "      <td>2.0</td>\n",
       "      <td>2.0</td>\n",
       "      <td>175</td>\n",
       "      <td>4.0</td>\n",
       "      <td>1.0</td>\n",
       "    </tr>\n",
       "    <tr>\n",
       "      <th>2</th>\n",
       "      <td>5000</td>\n",
       "      <td>2</td>\n",
       "      <td>10000</td>\n",
       "      <td>2</td>\n",
       "      <td>3.0</td>\n",
       "      <td>3.0</td>\n",
       "      <td>171</td>\n",
       "      <td>6.0</td>\n",
       "      <td>0.0</td>\n",
       "    </tr>\n",
       "    <tr>\n",
       "      <th>3</th>\n",
       "      <td>24000</td>\n",
       "      <td>2</td>\n",
       "      <td>4000</td>\n",
       "      <td>2</td>\n",
       "      <td>NaN</td>\n",
       "      <td>2.0</td>\n",
       "      <td>170</td>\n",
       "      <td>NaN</td>\n",
       "      <td>1.0</td>\n",
       "    </tr>\n",
       "    <tr>\n",
       "      <th>4</th>\n",
       "      <td>10000</td>\n",
       "      <td>2</td>\n",
       "      <td>4000</td>\n",
       "      <td>2</td>\n",
       "      <td>NaN</td>\n",
       "      <td>NaN</td>\n",
       "      <td>160</td>\n",
       "      <td>NaN</td>\n",
       "      <td>1.0</td>\n",
       "    </tr>\n",
       "    <tr>\n",
       "      <th>5</th>\n",
       "      <td>18203</td>\n",
       "      <td>3</td>\n",
       "      <td>5000</td>\n",
       "      <td>2</td>\n",
       "      <td>3.0</td>\n",
       "      <td>3.0</td>\n",
       "      <td>167</td>\n",
       "      <td>6.0</td>\n",
       "      <td>1.0</td>\n",
       "    </tr>\n",
       "    <tr>\n",
       "      <th>6</th>\n",
       "      <td>100000</td>\n",
       "      <td>2</td>\n",
       "      <td>5000</td>\n",
       "      <td>5</td>\n",
       "      <td>2.0</td>\n",
       "      <td>1.0</td>\n",
       "      <td>165</td>\n",
       "      <td>3.0</td>\n",
       "      <td>1.0</td>\n",
       "    </tr>\n",
       "    <tr>\n",
       "      <th>7</th>\n",
       "      <td>171057</td>\n",
       "      <td>2</td>\n",
       "      <td>50000000</td>\n",
       "      <td>4</td>\n",
       "      <td>0.0</td>\n",
       "      <td>0.0</td>\n",
       "      <td>160</td>\n",
       "      <td>0.0</td>\n",
       "      <td>NaN</td>\n",
       "    </tr>\n",
       "    <tr>\n",
       "      <th>8</th>\n",
       "      <td>8000</td>\n",
       "      <td>3</td>\n",
       "      <td>4000</td>\n",
       "      <td>3</td>\n",
       "      <td>3.0</td>\n",
       "      <td>3.0</td>\n",
       "      <td>188</td>\n",
       "      <td>6.0</td>\n",
       "      <td>0.0</td>\n",
       "    </tr>\n",
       "    <tr>\n",
       "      <th>9</th>\n",
       "      <td>6000</td>\n",
       "      <td>3</td>\n",
       "      <td>3000</td>\n",
       "      <td>3</td>\n",
       "      <td>2.0</td>\n",
       "      <td>2.0</td>\n",
       "      <td>161</td>\n",
       "      <td>4.0</td>\n",
       "      <td>1.0</td>\n",
       "    </tr>\n",
       "    <tr>\n",
       "      <th>10</th>\n",
       "      <td>860000</td>\n",
       "      <td>4</td>\n",
       "      <td>4000</td>\n",
       "      <td>3</td>\n",
       "      <td>NaN</td>\n",
       "      <td>2.0</td>\n",
       "      <td>155</td>\n",
       "      <td>NaN</td>\n",
       "      <td>1.0</td>\n",
       "    </tr>\n",
       "    <tr>\n",
       "      <th>11</th>\n",
       "      <td>17000</td>\n",
       "      <td>3</td>\n",
       "      <td>4000</td>\n",
       "      <td>0</td>\n",
       "      <td>3.0</td>\n",
       "      <td>2.0</td>\n",
       "      <td>178</td>\n",
       "      <td>5.0</td>\n",
       "      <td>0.0</td>\n",
       "    </tr>\n",
       "  </tbody>\n",
       "</table>\n",
       "</div>"
      ],
      "text/plain": [
       "      city  education    salary  siblings  mother_edu_level  father_edu_level  \\\n",
       "0   105142          2      3500         6               1.0               2.0   \n",
       "1       40          2      4000         3               2.0               2.0   \n",
       "2     5000          2     10000         2               3.0               3.0   \n",
       "3    24000          2      4000         2               NaN               2.0   \n",
       "4    10000          2      4000         2               NaN               NaN   \n",
       "5    18203          3      5000         2               3.0               3.0   \n",
       "6   100000          2      5000         5               2.0               1.0   \n",
       "7   171057          2  50000000         4               0.0               0.0   \n",
       "8     8000          3      4000         3               3.0               3.0   \n",
       "9     6000          3      3000         3               2.0               2.0   \n",
       "10  860000          4      4000         3               NaN               2.0   \n",
       "11   17000          3      4000         0               3.0               2.0   \n",
       "\n",
       "    size  parents_edu_level  gender_num  \n",
       "0    165                3.0         1.0  \n",
       "1    175                4.0         1.0  \n",
       "2    171                6.0         0.0  \n",
       "3    170                NaN         1.0  \n",
       "4    160                NaN         1.0  \n",
       "5    167                6.0         1.0  \n",
       "6    165                3.0         1.0  \n",
       "7    160                0.0         NaN  \n",
       "8    188                6.0         0.0  \n",
       "9    161                4.0         1.0  \n",
       "10   155                NaN         1.0  \n",
       "11   178                5.0         0.0  "
      ]
     },
     "execution_count": 127,
     "metadata": {},
     "output_type": "execute_result"
    }
   ],
   "source": [
    "df.select_dtypes(include='number')"
   ]
  },
  {
   "cell_type": "code",
   "execution_count": 128,
   "id": "8ec18179",
   "metadata": {},
   "outputs": [
    {
     "name": "stdout",
     "output_type": "stream",
     "text": [
      "city\n",
      "education\n",
      "salary\n",
      "siblings\n",
      "mother_edu_level\n",
      "father_edu_level\n",
      "size\n",
      "parents_edu_level\n",
      "gender_num\n"
     ]
    }
   ],
   "source": [
    "for i in df.select_dtypes(include='number'):\n",
    "    print(i)"
   ]
  },
  {
   "cell_type": "code",
   "execution_count": 129,
   "id": "3571d1a4",
   "metadata": {},
   "outputs": [
    {
     "data": {
      "text/plain": [
       "[0, 1, 4, 9]"
      ]
     },
     "execution_count": 129,
     "metadata": {},
     "output_type": "execute_result"
    }
   ],
   "source": [
    "suite=[0,1,2,3]\n",
    "[el**2 for el in suite]"
   ]
  },
  {
   "cell_type": "code",
   "execution_count": 130,
   "id": "be8f0109",
   "metadata": {},
   "outputs": [
    {
     "data": {
      "text/plain": [
       "[0     105142\n",
       " 1         40\n",
       " 2       5000\n",
       " 3      24000\n",
       " 4      10000\n",
       " 5      18203\n",
       " 6     100000\n",
       " 7     171057\n",
       " 8       8000\n",
       " 9       6000\n",
       " 11     17000\n",
       " Name: city, dtype: int64,\n",
       " 0     2\n",
       " 1     2\n",
       " 2     2\n",
       " 3     2\n",
       " 4     2\n",
       " 5     3\n",
       " 6     2\n",
       " 7     2\n",
       " 8     3\n",
       " 9     3\n",
       " 10    4\n",
       " 11    3\n",
       " Name: education, dtype: int64,\n",
       " 0      3500\n",
       " 1      4000\n",
       " 2     10000\n",
       " 3      4000\n",
       " 4      4000\n",
       " 5      5000\n",
       " 6      5000\n",
       " 8      4000\n",
       " 9      3000\n",
       " 10     4000\n",
       " 11     4000\n",
       " Name: salary, dtype: int64,\n",
       " 0     6\n",
       " 1     3\n",
       " 2     2\n",
       " 3     2\n",
       " 4     2\n",
       " 5     2\n",
       " 6     5\n",
       " 7     4\n",
       " 8     3\n",
       " 9     3\n",
       " 10    3\n",
       " 11    0\n",
       " Name: siblings, dtype: int64,\n",
       " 0     1.0\n",
       " 1     2.0\n",
       " 2     3.0\n",
       " 5     3.0\n",
       " 6     2.0\n",
       " 7     0.0\n",
       " 8     3.0\n",
       " 9     2.0\n",
       " 11    3.0\n",
       " Name: mother_edu_level, dtype: float64,\n",
       " 0     2.0\n",
       " 1     2.0\n",
       " 2     3.0\n",
       " 3     2.0\n",
       " 5     3.0\n",
       " 6     1.0\n",
       " 7     0.0\n",
       " 8     3.0\n",
       " 9     2.0\n",
       " 10    2.0\n",
       " 11    2.0\n",
       " Name: father_edu_level, dtype: float64,\n",
       " 0     165\n",
       " 1     175\n",
       " 2     171\n",
       " 3     170\n",
       " 4     160\n",
       " 5     167\n",
       " 6     165\n",
       " 7     160\n",
       " 8     188\n",
       " 9     161\n",
       " 10    155\n",
       " 11    178\n",
       " Name: size, dtype: int64,\n",
       " 0     3.0\n",
       " 1     4.0\n",
       " 2     6.0\n",
       " 5     6.0\n",
       " 6     3.0\n",
       " 7     0.0\n",
       " 8     6.0\n",
       " 9     4.0\n",
       " 11    5.0\n",
       " Name: parents_edu_level, dtype: float64,\n",
       " 0     1.0\n",
       " 1     1.0\n",
       " 2     0.0\n",
       " 3     1.0\n",
       " 4     1.0\n",
       " 5     1.0\n",
       " 6     1.0\n",
       " 8     0.0\n",
       " 9     1.0\n",
       " 10    1.0\n",
       " 11    0.0\n",
       " Name: gender_num, dtype: float64]"
      ]
     },
     "execution_count": 130,
     "metadata": {},
     "output_type": "execute_result"
    }
   ],
   "source": [
    "([remove_outliers(df[s]) for s in \n",
    " df.select_dtypes(include='number')])"
   ]
  },
  {
   "cell_type": "code",
   "execution_count": 131,
   "id": "20bef09a",
   "metadata": {},
   "outputs": [],
   "source": [
    "clean_num_series= ([remove_outliers(df[s])for s in\n",
    "                   df.select_dtypes(include='number')])"
   ]
  },
  {
   "cell_type": "code",
   "execution_count": 132,
   "id": "b99085a2",
   "metadata": {
    "scrolled": false
   },
   "outputs": [],
   "source": [
    "num_df=pd.concat(clean_num_series, axis=1)"
   ]
  },
  {
   "cell_type": "markdown",
   "id": "41141a37",
   "metadata": {},
   "source": [
    "num_df.head(1)"
   ]
  },
  {
   "cell_type": "code",
   "execution_count": 133,
   "id": "3c33899a",
   "metadata": {
    "scrolled": true
   },
   "outputs": [
    {
     "data": {
      "text/html": [
       "<div>\n",
       "<style scoped>\n",
       "    .dataframe tbody tr th:only-of-type {\n",
       "        vertical-align: middle;\n",
       "    }\n",
       "\n",
       "    .dataframe tbody tr th {\n",
       "        vertical-align: top;\n",
       "    }\n",
       "\n",
       "    .dataframe thead th {\n",
       "        text-align: right;\n",
       "    }\n",
       "</style>\n",
       "<table border=\"1\" class=\"dataframe\">\n",
       "  <thead>\n",
       "    <tr style=\"text-align: right;\">\n",
       "      <th></th>\n",
       "      <th>city</th>\n",
       "      <th>education</th>\n",
       "      <th>salary</th>\n",
       "      <th>siblings</th>\n",
       "      <th>mother_edu_level</th>\n",
       "      <th>father_edu_level</th>\n",
       "      <th>size</th>\n",
       "      <th>parents_edu_level</th>\n",
       "      <th>gender_num</th>\n",
       "    </tr>\n",
       "  </thead>\n",
       "  <tbody>\n",
       "    <tr>\n",
       "      <th>0</th>\n",
       "      <td>105142.0</td>\n",
       "      <td>2</td>\n",
       "      <td>3500.0</td>\n",
       "      <td>6</td>\n",
       "      <td>1.0</td>\n",
       "      <td>2.0</td>\n",
       "      <td>165</td>\n",
       "      <td>3.0</td>\n",
       "      <td>1.0</td>\n",
       "    </tr>\n",
       "    <tr>\n",
       "      <th>1</th>\n",
       "      <td>40.0</td>\n",
       "      <td>2</td>\n",
       "      <td>4000.0</td>\n",
       "      <td>3</td>\n",
       "      <td>2.0</td>\n",
       "      <td>2.0</td>\n",
       "      <td>175</td>\n",
       "      <td>4.0</td>\n",
       "      <td>1.0</td>\n",
       "    </tr>\n",
       "    <tr>\n",
       "      <th>2</th>\n",
       "      <td>5000.0</td>\n",
       "      <td>2</td>\n",
       "      <td>10000.0</td>\n",
       "      <td>2</td>\n",
       "      <td>3.0</td>\n",
       "      <td>3.0</td>\n",
       "      <td>171</td>\n",
       "      <td>6.0</td>\n",
       "      <td>0.0</td>\n",
       "    </tr>\n",
       "    <tr>\n",
       "      <th>3</th>\n",
       "      <td>24000.0</td>\n",
       "      <td>2</td>\n",
       "      <td>4000.0</td>\n",
       "      <td>2</td>\n",
       "      <td>1.0</td>\n",
       "      <td>2.0</td>\n",
       "      <td>170</td>\n",
       "      <td>1.0</td>\n",
       "      <td>1.0</td>\n",
       "    </tr>\n",
       "    <tr>\n",
       "      <th>4</th>\n",
       "      <td>10000.0</td>\n",
       "      <td>2</td>\n",
       "      <td>4000.0</td>\n",
       "      <td>2</td>\n",
       "      <td>1.0</td>\n",
       "      <td>1.0</td>\n",
       "      <td>160</td>\n",
       "      <td>1.0</td>\n",
       "      <td>1.0</td>\n",
       "    </tr>\n",
       "    <tr>\n",
       "      <th>5</th>\n",
       "      <td>18203.0</td>\n",
       "      <td>3</td>\n",
       "      <td>5000.0</td>\n",
       "      <td>2</td>\n",
       "      <td>3.0</td>\n",
       "      <td>3.0</td>\n",
       "      <td>167</td>\n",
       "      <td>6.0</td>\n",
       "      <td>1.0</td>\n",
       "    </tr>\n",
       "    <tr>\n",
       "      <th>6</th>\n",
       "      <td>100000.0</td>\n",
       "      <td>2</td>\n",
       "      <td>5000.0</td>\n",
       "      <td>5</td>\n",
       "      <td>2.0</td>\n",
       "      <td>1.0</td>\n",
       "      <td>165</td>\n",
       "      <td>3.0</td>\n",
       "      <td>1.0</td>\n",
       "    </tr>\n",
       "    <tr>\n",
       "      <th>7</th>\n",
       "      <td>171057.0</td>\n",
       "      <td>2</td>\n",
       "      <td>1.0</td>\n",
       "      <td>4</td>\n",
       "      <td>0.0</td>\n",
       "      <td>0.0</td>\n",
       "      <td>160</td>\n",
       "      <td>0.0</td>\n",
       "      <td>1.0</td>\n",
       "    </tr>\n",
       "    <tr>\n",
       "      <th>8</th>\n",
       "      <td>8000.0</td>\n",
       "      <td>3</td>\n",
       "      <td>4000.0</td>\n",
       "      <td>3</td>\n",
       "      <td>3.0</td>\n",
       "      <td>3.0</td>\n",
       "      <td>188</td>\n",
       "      <td>6.0</td>\n",
       "      <td>0.0</td>\n",
       "    </tr>\n",
       "    <tr>\n",
       "      <th>9</th>\n",
       "      <td>6000.0</td>\n",
       "      <td>3</td>\n",
       "      <td>3000.0</td>\n",
       "      <td>3</td>\n",
       "      <td>2.0</td>\n",
       "      <td>2.0</td>\n",
       "      <td>161</td>\n",
       "      <td>4.0</td>\n",
       "      <td>1.0</td>\n",
       "    </tr>\n",
       "    <tr>\n",
       "      <th>11</th>\n",
       "      <td>17000.0</td>\n",
       "      <td>3</td>\n",
       "      <td>4000.0</td>\n",
       "      <td>0</td>\n",
       "      <td>3.0</td>\n",
       "      <td>2.0</td>\n",
       "      <td>178</td>\n",
       "      <td>5.0</td>\n",
       "      <td>0.0</td>\n",
       "    </tr>\n",
       "    <tr>\n",
       "      <th>10</th>\n",
       "      <td>1.0</td>\n",
       "      <td>4</td>\n",
       "      <td>4000.0</td>\n",
       "      <td>3</td>\n",
       "      <td>1.0</td>\n",
       "      <td>2.0</td>\n",
       "      <td>155</td>\n",
       "      <td>1.0</td>\n",
       "      <td>1.0</td>\n",
       "    </tr>\n",
       "  </tbody>\n",
       "</table>\n",
       "</div>"
      ],
      "text/plain": [
       "        city  education   salary  siblings  mother_edu_level  \\\n",
       "0   105142.0          2   3500.0         6               1.0   \n",
       "1       40.0          2   4000.0         3               2.0   \n",
       "2     5000.0          2  10000.0         2               3.0   \n",
       "3    24000.0          2   4000.0         2               1.0   \n",
       "4    10000.0          2   4000.0         2               1.0   \n",
       "5    18203.0          3   5000.0         2               3.0   \n",
       "6   100000.0          2   5000.0         5               2.0   \n",
       "7   171057.0          2      1.0         4               0.0   \n",
       "8     8000.0          3   4000.0         3               3.0   \n",
       "9     6000.0          3   3000.0         3               2.0   \n",
       "11   17000.0          3   4000.0         0               3.0   \n",
       "10       1.0          4   4000.0         3               1.0   \n",
       "\n",
       "    father_edu_level  size  parents_edu_level  gender_num  \n",
       "0                2.0   165                3.0         1.0  \n",
       "1                2.0   175                4.0         1.0  \n",
       "2                3.0   171                6.0         0.0  \n",
       "3                2.0   170                1.0         1.0  \n",
       "4                1.0   160                1.0         1.0  \n",
       "5                3.0   167                6.0         1.0  \n",
       "6                1.0   165                3.0         1.0  \n",
       "7                0.0   160                0.0         1.0  \n",
       "8                3.0   188                6.0         0.0  \n",
       "9                2.0   161                4.0         1.0  \n",
       "11               2.0   178                5.0         0.0  \n",
       "10               2.0   155                1.0         1.0  "
      ]
     },
     "execution_count": 133,
     "metadata": {},
     "output_type": "execute_result"
    }
   ],
   "source": [
    "num_df.fillna(1)"
   ]
  },
  {
   "cell_type": "code",
   "execution_count": 134,
   "id": "a47b9904",
   "metadata": {},
   "outputs": [
    {
     "data": {
      "text/plain": [
       "<AxesSubplot:ylabel='Density'>"
      ]
     },
     "execution_count": 134,
     "metadata": {},
     "output_type": "execute_result"
    },
    {
     "data": {
      "image/png": "[encoded data removed]",
      "text/plain": [
       "<Figure size 432x288 with 1 Axes>"
      ]
     },
     "metadata": {
      "needs_background": "light"
     },
     "output_type": "display_data"
    }
   ],
   "source": [
    "num_df['size'].plot(kind='kde')"
   ]
  },
  {
   "cell_type": "code",
   "execution_count": 135,
   "id": "5eb1d928",
   "metadata": {},
   "outputs": [
    {
     "data": {
      "text/plain": [
       "0.8448833301788213"
      ]
     },
     "execution_count": 135,
     "metadata": {},
     "output_type": "execute_result"
    }
   ],
   "source": [
    "df['size'].skew()"
   ]
  },
  {
   "cell_type": "code",
   "execution_count": 136,
   "id": "c4d08ef8",
   "metadata": {},
   "outputs": [
    {
     "data": {
      "text/plain": [
       "{'tomate': 25, 'courgette': 15}"
      ]
     },
     "execution_count": 136,
     "metadata": {},
     "output_type": "execute_result"
    }
   ],
   "source": [
    "d={'tomate':5,'courgette':3}\n",
    "{k:v*5 for k,v in d.items()}"
   ]
  },
  {
   "cell_type": "code",
   "execution_count": 137,
   "id": "973483fc",
   "metadata": {},
   "outputs": [
    {
     "data": {
      "text/plain": [
       "{'city': 17000.0,\n",
       " 'education': 2.0,\n",
       " 'salary': 4000.0,\n",
       " 'siblings': 2.9166666666666665,\n",
       " 'mother_edu_level': 2.0,\n",
       " 'father_edu_level': 2.0,\n",
       " 'size': 167.91666666666666,\n",
       " 'parents_edu_level': 4.0,\n",
       " 'gender_num': 1.0}"
      ]
     },
     "execution_count": 137,
     "metadata": {},
     "output_type": "execute_result"
    }
   ],
   "source": [
    "#generer un dico avec noms colonnes en clé\n",
    "#et comme valeurs soit moy si skew compris entre -1 et 1\n",
    "#sinon mediane\n",
    "{col:num_df[col].mean() \n",
    " if -1<= num_df[col].skew() <=1\n",
    " else num_df[col].median()\n",
    " for col in num_df.columns}"
   ]
  },
  {
   "cell_type": "code",
   "execution_count": 138,
   "id": "62f64f0a",
   "metadata": {},
   "outputs": [
    {
     "ename": "NameError",
     "evalue": "name 'mean_or_median_d' is not defined",
     "output_type": "error",
     "traceback": [
      "\u001b[1;31m---------------------------------------------------------------------------\u001b[0m",
      "\u001b[1;31mNameError\u001b[0m                                 Traceback (most recent call last)",
      "Input \u001b[1;32mIn [138]\u001b[0m, in \u001b[0;36m<cell line: 1>\u001b[1;34m()\u001b[0m\n\u001b[1;32m----> 1\u001b[0m num_df\u001b[38;5;241m.\u001b[39mfillna(\u001b[43mmean_or_median_d\u001b[49m)\n",
      "\u001b[1;31mNameError\u001b[0m: name 'mean_or_median_d' is not defined"
     ]
    }
   ],
   "source": [
    "num_df.fillna(mean_or_median_d)"
   ]
  },
  {
   "cell_type": "code",
   "execution_count": 139,
   "id": "77dfd986",
   "metadata": {},
   "outputs": [
    {
     "data": {
      "text/plain": [
       "<AxesSubplot:>"
      ]
     },
     "execution_count": 139,
     "metadata": {},
     "output_type": "execute_result"
    },
    {
     "data": {
      "image/png": "[encoded data removed]",
      "text/plain": [
       "<Figure size 432x288 with 2 Axes>"
      ]
     },
     "metadata": {
      "needs_background": "light"
     },
     "output_type": "display_data"
    }
   ],
   "source": [
    "import seaborn as sns\n",
    "sns.heatmap(num_df.corr())"
   ]
  },
  {
   "cell_type": "code",
   "execution_count": 140,
   "id": "c8cf03d3",
   "metadata": {},
   "outputs": [
    {
     "data": {
      "text/plain": [
       "<AxesSubplot:>"
      ]
     },
     "execution_count": 140,
     "metadata": {},
     "output_type": "execute_result"
    },
    {
     "data": {
      "image/png": "[encoded data removed]",
      "text/plain": [
       "<Figure size 432x288 with 2 Axes>"
      ]
     },
     "metadata": {
      "needs_background": "light"
     },
     "output_type": "display_data"
    }
   ],
   "source": [
    "sns.heatmap(num_df.corr(), vmin=-1, vmax=1, annot=True)"
   ]
  },
  {
   "cell_type": "code",
   "execution_count": 141,
   "id": "13850dff",
   "metadata": {
    "scrolled": true
   },
   "outputs": [
    {
     "ename": "TypeError",
     "evalue": "pairplot() got an unexpected keyword argument 'diag_king'",
     "output_type": "error",
     "traceback": [
      "\u001b[1;31m---------------------------------------------------------------------------\u001b[0m",
      "\u001b[1;31mTypeError\u001b[0m                                 Traceback (most recent call last)",
      "File \u001b[1;32m<timed eval>:1\u001b[0m, in \u001b[0;36m<module>\u001b[1;34m\u001b[0m\n",
      "File \u001b[1;32mC:\\ProgramData\\Anaconda3\\lib\\site-packages\\seaborn\\_decorators.py:46\u001b[0m, in \u001b[0;36m_deprecate_positional_args.<locals>.inner_f\u001b[1;34m(*args, **kwargs)\u001b[0m\n\u001b[0;32m     36\u001b[0m     warnings\u001b[38;5;241m.\u001b[39mwarn(\n\u001b[0;32m     37\u001b[0m         \u001b[38;5;124m\"\u001b[39m\u001b[38;5;124mPass the following variable\u001b[39m\u001b[38;5;132;01m{}\u001b[39;00m\u001b[38;5;124m as \u001b[39m\u001b[38;5;132;01m{}\u001b[39;00m\u001b[38;5;124mkeyword arg\u001b[39m\u001b[38;5;132;01m{}\u001b[39;00m\u001b[38;5;124m: \u001b[39m\u001b[38;5;132;01m{}\u001b[39;00m\u001b[38;5;124m. \u001b[39m\u001b[38;5;124m\"\u001b[39m\n\u001b[0;32m     38\u001b[0m         \u001b[38;5;124m\"\u001b[39m\u001b[38;5;124mFrom version 0.12, the only valid positional argument \u001b[39m\u001b[38;5;124m\"\u001b[39m\n\u001b[1;32m   (...)\u001b[0m\n\u001b[0;32m     43\u001b[0m         \u001b[38;5;167;01mFutureWarning\u001b[39;00m\n\u001b[0;32m     44\u001b[0m     )\n\u001b[0;32m     45\u001b[0m kwargs\u001b[38;5;241m.\u001b[39mupdate({k: arg \u001b[38;5;28;01mfor\u001b[39;00m k, arg \u001b[38;5;129;01min\u001b[39;00m \u001b[38;5;28mzip\u001b[39m(sig\u001b[38;5;241m.\u001b[39mparameters, args)})\n\u001b[1;32m---> 46\u001b[0m \u001b[38;5;28;01mreturn\u001b[39;00m f(\u001b[38;5;241m*\u001b[39m\u001b[38;5;241m*\u001b[39mkwargs)\n",
      "\u001b[1;31mTypeError\u001b[0m: pairplot() got an unexpected keyword argument 'diag_king'"
     ]
    }
   ],
   "source": [
    "%%time\n",
    "sns.pairplot(num_df,\n",
    "             diag_king='kde',\n",
    "             kind='reg', \n",
    "             plot_kws={'color': 'red'})"
   ]
  },
  {
   "cell_type": "code",
   "execution_count": 142,
   "id": "8f4e269d",
   "metadata": {},
   "outputs": [
    {
     "data": {
      "text/plain": [
       "<seaborn.axisgrid.FacetGrid at 0x233336cdd60>"
      ]
     },
     "execution_count": 142,
     "metadata": {},
     "output_type": "execute_result"
    },
    {
     "data": {
      "image/png": "[encoded data removed]",
      "text/plain": [
       "<Figure size 360x360 with 1 Axes>"
      ]
     },
     "metadata": {
      "needs_background": "light"
     },
     "output_type": "display_data"
    }
   ],
   "source": [
    "sns.lmplot(x='education',\n",
    "          y='salary',\n",
    "          data=num_df,\n",
    "          fit_reg=True,\n",
    "          line_kws={'color': 'red'})"
   ]
  },
  {
   "cell_type": "markdown",
   "id": "7325c0a8",
   "metadata": {},
   "source": [
    "## Jointure"
   ]
  },
  {
   "cell_type": "code",
   "execution_count": 143,
   "id": "53f6d61f",
   "metadata": {},
   "outputs": [],
   "source": [
    "df['name']=[\"Saint-Omer\", \"Montcalm\", \"La Bouilladisse\", \"Saint Genis Laval\", \n",
    "            \"Pélissanne\",\"Bagnols-sur-Cèze\", \"Avignon\", \"Saint-Etienne\",\n",
    "           \"Venelles\", \"Clermont de l'Oise\",\"Marseille\", \"Digne-les-Bains\",]"
   ]
  },
  {
   "cell_type": "code",
   "execution_count": 144,
   "id": "8d6bb568",
   "metadata": {},
   "outputs": [],
   "source": [
    "df['pop']=df['city']"
   ]
  },
  {
   "cell_type": "code",
   "execution_count": 145,
   "id": "eed0dcde",
   "metadata": {},
   "outputs": [],
   "source": [
    "df['city']=df['name']"
   ]
  },
  {
   "cell_type": "code",
   "execution_count": null,
   "id": "063aaf6a",
   "metadata": {},
   "outputs": [],
   "source": []
  },
  {
   "cell_type": "code",
   "execution_count": 146,
   "id": "4ba93f5b",
   "metadata": {},
   "outputs": [],
   "source": [
    "df = df.drop(columns=['name'])"
   ]
  },
  {
   "cell_type": "code",
   "execution_count": 147,
   "id": "49abb795",
   "metadata": {},
   "outputs": [],
   "source": [
    "df['dept'] = ['62','30','13','69','13','30','84','42','13','60','13','04']"
   ]
  },
  {
   "cell_type": "markdown",
   "id": "4ca30ee6",
   "metadata": {},
   "source": [
    "## Load population file"
   ]
  },
  {
   "cell_type": "code",
   "execution_count": 148,
   "id": "c609a5dd",
   "metadata": {},
   "outputs": [],
   "source": [
    "city_df= pd.read_excel(\"Population-par-commune-Excel.xlsx\", skiprows=2)"
   ]
  },
  {
   "cell_type": "code",
   "execution_count": 149,
   "id": "dc7a9f27",
   "metadata": {},
   "outputs": [
    {
     "data": {
      "text/html": [
       "<div>\n",
       "<style scoped>\n",
       "    .dataframe tbody tr th:only-of-type {\n",
       "        vertical-align: middle;\n",
       "    }\n",
       "\n",
       "    .dataframe tbody tr th {\n",
       "        vertical-align: top;\n",
       "    }\n",
       "\n",
       "    .dataframe thead th {\n",
       "        text-align: right;\n",
       "    }\n",
       "</style>\n",
       "<table border=\"1\" class=\"dataframe\">\n",
       "  <thead>\n",
       "    <tr style=\"text-align: right;\">\n",
       "      <th></th>\n",
       "      <th>Nom de la commune</th>\n",
       "      <th>Population totale</th>\n",
       "      <th>Département</th>\n",
       "      <th>Région</th>\n",
       "    </tr>\n",
       "  </thead>\n",
       "  <tbody>\n",
       "    <tr>\n",
       "      <th>0</th>\n",
       "      <td>L'Abergement-Clémenciat</td>\n",
       "      <td>785</td>\n",
       "      <td>01</td>\n",
       "      <td>Auvergne-Rhône-Alpes</td>\n",
       "    </tr>\n",
       "    <tr>\n",
       "      <th>1</th>\n",
       "      <td>L'Abergement-de-Varey</td>\n",
       "      <td>244</td>\n",
       "      <td>01</td>\n",
       "      <td>Auvergne-Rhône-Alpes</td>\n",
       "    </tr>\n",
       "    <tr>\n",
       "      <th>2</th>\n",
       "      <td>Ambérieu-en-Bugey</td>\n",
       "      <td>14518</td>\n",
       "      <td>01</td>\n",
       "      <td>Auvergne-Rhône-Alpes</td>\n",
       "    </tr>\n",
       "    <tr>\n",
       "      <th>3</th>\n",
       "      <td>Ambérieux-en-Dombes</td>\n",
       "      <td>1705</td>\n",
       "      <td>01</td>\n",
       "      <td>Auvergne-Rhône-Alpes</td>\n",
       "    </tr>\n",
       "    <tr>\n",
       "      <th>4</th>\n",
       "      <td>Ambléon</td>\n",
       "      <td>116</td>\n",
       "      <td>01</td>\n",
       "      <td>Auvergne-Rhône-Alpes</td>\n",
       "    </tr>\n",
       "  </tbody>\n",
       "</table>\n",
       "</div>"
      ],
      "text/plain": [
       "         Nom de la commune  Population totale Département  \\\n",
       "0  L'Abergement-Clémenciat                785          01   \n",
       "1    L'Abergement-de-Varey                244          01   \n",
       "2        Ambérieu-en-Bugey              14518          01   \n",
       "3      Ambérieux-en-Dombes               1705          01   \n",
       "4                  Ambléon                116          01   \n",
       "\n",
       "                 Région  \n",
       "0  Auvergne-Rhône-Alpes  \n",
       "1  Auvergne-Rhône-Alpes  \n",
       "2  Auvergne-Rhône-Alpes  \n",
       "3  Auvergne-Rhône-Alpes  \n",
       "4  Auvergne-Rhône-Alpes  "
      ]
     },
     "execution_count": 149,
     "metadata": {},
     "output_type": "execute_result"
    }
   ],
   "source": [
    "city_df.head()"
   ]
  },
  {
   "cell_type": "code",
   "execution_count": 150,
   "id": "94b8c3d2",
   "metadata": {},
   "outputs": [],
   "source": [
    "# enlever tt les tirets, accents, maj, apostrophes, espaces"
   ]
  },
  {
   "cell_type": "code",
   "execution_count": 151,
   "id": "84161f6c",
   "metadata": {},
   "outputs": [
    {
     "data": {
      "text/plain": [
       "'saintetienne'"
      ]
     },
     "execution_count": 151,
     "metadata": {},
     "output_type": "execute_result"
    }
   ],
   "source": [
    "from unidecode import unidecode\n",
    "\n",
    "def format_city(txt):\n",
    "    return unidecode(txt.replace('-','').replace(' ','').replace(\"''\",'').lower())\n",
    "\n",
    "format_city(\"Saint -étienne\")"
   ]
  },
  {
   "cell_type": "code",
   "execution_count": 152,
   "id": "b1fc1ca9",
   "metadata": {},
   "outputs": [],
   "source": [
    "df['format_city'] = df['city'].map(format_city)\n",
    "city_df['format_city2'] = city_df['Nom de la commune'].map(format_city)"
   ]
  },
  {
   "cell_type": "code",
   "execution_count": 153,
   "id": "a577f929",
   "metadata": {},
   "outputs": [
    {
     "data": {
      "text/html": [
       "<div>\n",
       "<style scoped>\n",
       "    .dataframe tbody tr th:only-of-type {\n",
       "        vertical-align: middle;\n",
       "    }\n",
       "\n",
       "    .dataframe tbody tr th {\n",
       "        vertical-align: top;\n",
       "    }\n",
       "\n",
       "    .dataframe thead th {\n",
       "        text-align: right;\n",
       "    }\n",
       "</style>\n",
       "<table border=\"1\" class=\"dataframe\">\n",
       "  <thead>\n",
       "    <tr style=\"text-align: right;\">\n",
       "      <th></th>\n",
       "      <th>city</th>\n",
       "      <th>education</th>\n",
       "      <th>salary</th>\n",
       "      <th>siblings</th>\n",
       "      <th>age</th>\n",
       "      <th>mother_edu_level</th>\n",
       "      <th>father_edu_level</th>\n",
       "      <th>size</th>\n",
       "      <th>gender</th>\n",
       "      <th>pets</th>\n",
       "      <th>...</th>\n",
       "      <th>pet3</th>\n",
       "      <th>gender_num</th>\n",
       "      <th>pop</th>\n",
       "      <th>dept</th>\n",
       "      <th>format_city</th>\n",
       "      <th>Nom de la commune</th>\n",
       "      <th>Population totale</th>\n",
       "      <th>Département</th>\n",
       "      <th>Région</th>\n",
       "      <th>format_city2</th>\n",
       "    </tr>\n",
       "  </thead>\n",
       "  <tbody>\n",
       "    <tr>\n",
       "      <th>0</th>\n",
       "      <td>Saint-Omer</td>\n",
       "      <td>2</td>\n",
       "      <td>3500</td>\n",
       "      <td>6</td>\n",
       "      <td>20 - 21 years old</td>\n",
       "      <td>1.0</td>\n",
       "      <td>2.0</td>\n",
       "      <td>165</td>\n",
       "      <td>Woman</td>\n",
       "      <td>BIRD, SNAKE, CAT</td>\n",
       "      <td>...</td>\n",
       "      <td>cat</td>\n",
       "      <td>1.0</td>\n",
       "      <td>105142</td>\n",
       "      <td>62</td>\n",
       "      <td>saintomer</td>\n",
       "      <td>Saint-Omer</td>\n",
       "      <td>15192.0</td>\n",
       "      <td>62</td>\n",
       "      <td>Hauts-de-France</td>\n",
       "      <td>saintomer</td>\n",
       "    </tr>\n",
       "    <tr>\n",
       "      <th>1</th>\n",
       "      <td>Montcalm</td>\n",
       "      <td>2</td>\n",
       "      <td>4000</td>\n",
       "      <td>3</td>\n",
       "      <td>18 - 19 years old</td>\n",
       "      <td>2.0</td>\n",
       "      <td>2.0</td>\n",
       "      <td>175</td>\n",
       "      <td>Woman</td>\n",
       "      <td>giraffe, cat, swan</td>\n",
       "      <td>...</td>\n",
       "      <td>swan</td>\n",
       "      <td>1.0</td>\n",
       "      <td>40</td>\n",
       "      <td>30</td>\n",
       "      <td>montcalm</td>\n",
       "      <td>NaN</td>\n",
       "      <td>NaN</td>\n",
       "      <td>NaN</td>\n",
       "      <td>NaN</td>\n",
       "      <td>NaN</td>\n",
       "    </tr>\n",
       "    <tr>\n",
       "      <th>2</th>\n",
       "      <td>La Bouilladisse</td>\n",
       "      <td>2</td>\n",
       "      <td>10000</td>\n",
       "      <td>2</td>\n",
       "      <td>18 - 19 years old</td>\n",
       "      <td>3.0</td>\n",
       "      <td>3.0</td>\n",
       "      <td>171</td>\n",
       "      <td>Man</td>\n",
       "      <td>Cat, Komodo dragon, Crocodile</td>\n",
       "      <td>...</td>\n",
       "      <td>crocodile</td>\n",
       "      <td>0.0</td>\n",
       "      <td>5000</td>\n",
       "      <td>13</td>\n",
       "      <td>labouilladisse</td>\n",
       "      <td>La Bouilladisse</td>\n",
       "      <td>6215.0</td>\n",
       "      <td>13</td>\n",
       "      <td>Provence-Alpes-Côte d'Azur</td>\n",
       "      <td>labouilladisse</td>\n",
       "    </tr>\n",
       "    <tr>\n",
       "      <th>3</th>\n",
       "      <td>Saint Genis Laval</td>\n",
       "      <td>2</td>\n",
       "      <td>4000</td>\n",
       "      <td>2</td>\n",
       "      <td>20 - 21 years old</td>\n",
       "      <td>NaN</td>\n",
       "      <td>2.0</td>\n",
       "      <td>170</td>\n",
       "      <td>Woman</td>\n",
       "      <td>dogs, parrot, hamster</td>\n",
       "      <td>...</td>\n",
       "      <td>hamster</td>\n",
       "      <td>1.0</td>\n",
       "      <td>24000</td>\n",
       "      <td>69</td>\n",
       "      <td>saintgenislaval</td>\n",
       "      <td>Saint-Genis-Laval</td>\n",
       "      <td>22104.0</td>\n",
       "      <td>69</td>\n",
       "      <td>Auvergne-Rhône-Alpes</td>\n",
       "      <td>saintgenislaval</td>\n",
       "    </tr>\n",
       "    <tr>\n",
       "      <th>4</th>\n",
       "      <td>Pélissanne</td>\n",
       "      <td>2</td>\n",
       "      <td>4000</td>\n",
       "      <td>2</td>\n",
       "      <td>20 - 21 years old</td>\n",
       "      <td>NaN</td>\n",
       "      <td>NaN</td>\n",
       "      <td>160</td>\n",
       "      <td>Woman</td>\n",
       "      <td>dog,guinea pig,turtle</td>\n",
       "      <td>...</td>\n",
       "      <td>turtle</td>\n",
       "      <td>1.0</td>\n",
       "      <td>10000</td>\n",
       "      <td>13</td>\n",
       "      <td>pelissanne</td>\n",
       "      <td>Pélissanne</td>\n",
       "      <td>10474.0</td>\n",
       "      <td>13</td>\n",
       "      <td>Provence-Alpes-Côte d'Azur</td>\n",
       "      <td>pelissanne</td>\n",
       "    </tr>\n",
       "    <tr>\n",
       "      <th>5</th>\n",
       "      <td>Bagnols-sur-Cèze</td>\n",
       "      <td>3</td>\n",
       "      <td>5000</td>\n",
       "      <td>2</td>\n",
       "      <td>20 - 21 years old</td>\n",
       "      <td>3.0</td>\n",
       "      <td>3.0</td>\n",
       "      <td>167</td>\n",
       "      <td>Woman</td>\n",
       "      <td>Dog, sheep, goose</td>\n",
       "      <td>...</td>\n",
       "      <td>goose</td>\n",
       "      <td>1.0</td>\n",
       "      <td>18203</td>\n",
       "      <td>30</td>\n",
       "      <td>bagnolssurceze</td>\n",
       "      <td>Bagnols-sur-Cèze</td>\n",
       "      <td>18593.0</td>\n",
       "      <td>30</td>\n",
       "      <td>Occitanie</td>\n",
       "      <td>bagnolssurceze</td>\n",
       "    </tr>\n",
       "    <tr>\n",
       "      <th>6</th>\n",
       "      <td>Avignon</td>\n",
       "      <td>2</td>\n",
       "      <td>5000</td>\n",
       "      <td>5</td>\n",
       "      <td>20 - 21 years old</td>\n",
       "      <td>2.0</td>\n",
       "      <td>1.0</td>\n",
       "      <td>165</td>\n",
       "      <td>Woman</td>\n",
       "      <td>Cat, rabbit, dog</td>\n",
       "      <td>...</td>\n",
       "      <td>dog</td>\n",
       "      <td>1.0</td>\n",
       "      <td>100000</td>\n",
       "      <td>84</td>\n",
       "      <td>avignon</td>\n",
       "      <td>Avignon</td>\n",
       "      <td>94200.0</td>\n",
       "      <td>84</td>\n",
       "      <td>Provence-Alpes-Côte d'Azur</td>\n",
       "      <td>avignon</td>\n",
       "    </tr>\n",
       "    <tr>\n",
       "      <th>7</th>\n",
       "      <td>Saint-Etienne</td>\n",
       "      <td>2</td>\n",
       "      <td>50000000</td>\n",
       "      <td>4</td>\n",
       "      <td>22 - 23 years old</td>\n",
       "      <td>0.0</td>\n",
       "      <td>0.0</td>\n",
       "      <td>160</td>\n",
       "      <td>Do not wish to answer</td>\n",
       "      <td>je ne les aime pas</td>\n",
       "      <td>...</td>\n",
       "      <td>None</td>\n",
       "      <td>NaN</td>\n",
       "      <td>171057</td>\n",
       "      <td>42</td>\n",
       "      <td>saintetienne</td>\n",
       "      <td>Saint-Étienne</td>\n",
       "      <td>174298.0</td>\n",
       "      <td>42</td>\n",
       "      <td>Auvergne-Rhône-Alpes</td>\n",
       "      <td>saintetienne</td>\n",
       "    </tr>\n",
       "    <tr>\n",
       "      <th>8</th>\n",
       "      <td>Venelles</td>\n",
       "      <td>3</td>\n",
       "      <td>4000</td>\n",
       "      <td>3</td>\n",
       "      <td>20 - 21 years old</td>\n",
       "      <td>3.0</td>\n",
       "      <td>3.0</td>\n",
       "      <td>188</td>\n",
       "      <td>Man</td>\n",
       "      <td>Lion, chat, kangourou</td>\n",
       "      <td>...</td>\n",
       "      <td>kangourou</td>\n",
       "      <td>0.0</td>\n",
       "      <td>8000</td>\n",
       "      <td>13</td>\n",
       "      <td>venelles</td>\n",
       "      <td>Venelles</td>\n",
       "      <td>8539.0</td>\n",
       "      <td>13</td>\n",
       "      <td>Provence-Alpes-Côte d'Azur</td>\n",
       "      <td>venelles</td>\n",
       "    </tr>\n",
       "    <tr>\n",
       "      <th>9</th>\n",
       "      <td>Clermont de l'Oise</td>\n",
       "      <td>3</td>\n",
       "      <td>3000</td>\n",
       "      <td>3</td>\n",
       "      <td>20 - 21 years old</td>\n",
       "      <td>2.0</td>\n",
       "      <td>2.0</td>\n",
       "      <td>161</td>\n",
       "      <td>Woman</td>\n",
       "      <td>Cat, rabbit, dog</td>\n",
       "      <td>...</td>\n",
       "      <td>dog</td>\n",
       "      <td>1.0</td>\n",
       "      <td>6000</td>\n",
       "      <td>60</td>\n",
       "      <td>clermontdel'oise</td>\n",
       "      <td>NaN</td>\n",
       "      <td>NaN</td>\n",
       "      <td>NaN</td>\n",
       "      <td>NaN</td>\n",
       "      <td>NaN</td>\n",
       "    </tr>\n",
       "    <tr>\n",
       "      <th>10</th>\n",
       "      <td>Marseille</td>\n",
       "      <td>4</td>\n",
       "      <td>4000</td>\n",
       "      <td>3</td>\n",
       "      <td>20 - 21 years old</td>\n",
       "      <td>NaN</td>\n",
       "      <td>2.0</td>\n",
       "      <td>155</td>\n",
       "      <td>Woman</td>\n",
       "      <td>Cat</td>\n",
       "      <td>...</td>\n",
       "      <td>None</td>\n",
       "      <td>1.0</td>\n",
       "      <td>860000</td>\n",
       "      <td>13</td>\n",
       "      <td>marseille</td>\n",
       "      <td>NaN</td>\n",
       "      <td>NaN</td>\n",
       "      <td>NaN</td>\n",
       "      <td>NaN</td>\n",
       "      <td>NaN</td>\n",
       "    </tr>\n",
       "    <tr>\n",
       "      <th>11</th>\n",
       "      <td>Digne-les-Bains</td>\n",
       "      <td>3</td>\n",
       "      <td>4000</td>\n",
       "      <td>0</td>\n",
       "      <td>23 - 24 years old</td>\n",
       "      <td>3.0</td>\n",
       "      <td>2.0</td>\n",
       "      <td>178</td>\n",
       "      <td>Man</td>\n",
       "      <td>cat, fish, turtle</td>\n",
       "      <td>...</td>\n",
       "      <td>turtle</td>\n",
       "      <td>0.0</td>\n",
       "      <td>17000</td>\n",
       "      <td>04</td>\n",
       "      <td>dignelesbains</td>\n",
       "      <td>Digne-les-Bains</td>\n",
       "      <td>17064.0</td>\n",
       "      <td>04</td>\n",
       "      <td>Provence-Alpes-Côte d'Azur</td>\n",
       "      <td>dignelesbains</td>\n",
       "    </tr>\n",
       "  </tbody>\n",
       "</table>\n",
       "<p>12 rows × 24 columns</p>\n",
       "</div>"
      ],
      "text/plain": [
       "                  city  education    salary  siblings                age  \\\n",
       "0           Saint-Omer          2      3500         6  20 - 21 years old   \n",
       "1             Montcalm          2      4000         3  18 - 19 years old   \n",
       "2      La Bouilladisse          2     10000         2  18 - 19 years old   \n",
       "3    Saint Genis Laval          2      4000         2  20 - 21 years old   \n",
       "4           Pélissanne          2      4000         2  20 - 21 years old   \n",
       "5     Bagnols-sur-Cèze          3      5000         2  20 - 21 years old   \n",
       "6              Avignon          2      5000         5  20 - 21 years old   \n",
       "7        Saint-Etienne          2  50000000         4  22 - 23 years old   \n",
       "8             Venelles          3      4000         3  20 - 21 years old   \n",
       "9   Clermont de l'Oise          3      3000         3  20 - 21 years old   \n",
       "10           Marseille          4      4000         3  20 - 21 years old   \n",
       "11     Digne-les-Bains          3      4000         0  23 - 24 years old   \n",
       "\n",
       "    mother_edu_level  father_edu_level  size                 gender  \\\n",
       "0                1.0               2.0   165                  Woman   \n",
       "1                2.0               2.0   175                  Woman   \n",
       "2                3.0               3.0   171                    Man   \n",
       "3                NaN               2.0   170                  Woman   \n",
       "4                NaN               NaN   160                  Woman   \n",
       "5                3.0               3.0   167                  Woman   \n",
       "6                2.0               1.0   165                  Woman   \n",
       "7                0.0               0.0   160  Do not wish to answer   \n",
       "8                3.0               3.0   188                    Man   \n",
       "9                2.0               2.0   161                  Woman   \n",
       "10               NaN               2.0   155                  Woman   \n",
       "11               3.0               2.0   178                    Man   \n",
       "\n",
       "                             pets  ...        pet3  gender_num     pop dept  \\\n",
       "0                BIRD, SNAKE, CAT  ...         cat         1.0  105142   62   \n",
       "1              giraffe, cat, swan  ...        swan         1.0      40   30   \n",
       "2   Cat, Komodo dragon, Crocodile  ...   crocodile         0.0    5000   13   \n",
       "3           dogs, parrot, hamster  ...     hamster         1.0   24000   69   \n",
       "4           dog,guinea pig,turtle  ...      turtle         1.0   10000   13   \n",
       "5               Dog, sheep, goose  ...       goose         1.0   18203   30   \n",
       "6                Cat, rabbit, dog  ...         dog         1.0  100000   84   \n",
       "7              je ne les aime pas  ...        None         NaN  171057   42   \n",
       "8           Lion, chat, kangourou  ...   kangourou         0.0    8000   13   \n",
       "9                Cat, rabbit, dog  ...         dog         1.0    6000   60   \n",
       "10                            Cat  ...        None         1.0  860000   13   \n",
       "11              cat, fish, turtle  ...      turtle         0.0   17000   04   \n",
       "\n",
       "         format_city  Nom de la commune  Population totale Département  \\\n",
       "0          saintomer         Saint-Omer            15192.0          62   \n",
       "1           montcalm                NaN                NaN         NaN   \n",
       "2     labouilladisse    La Bouilladisse             6215.0          13   \n",
       "3    saintgenislaval  Saint-Genis-Laval            22104.0          69   \n",
       "4         pelissanne         Pélissanne            10474.0          13   \n",
       "5     bagnolssurceze   Bagnols-sur-Cèze            18593.0          30   \n",
       "6            avignon            Avignon            94200.0          84   \n",
       "7       saintetienne      Saint-Étienne           174298.0          42   \n",
       "8           venelles           Venelles             8539.0          13   \n",
       "9   clermontdel'oise                NaN                NaN         NaN   \n",
       "10         marseille                NaN                NaN         NaN   \n",
       "11     dignelesbains    Digne-les-Bains            17064.0          04   \n",
       "\n",
       "                        Région     format_city2  \n",
       "0              Hauts-de-France        saintomer  \n",
       "1                          NaN              NaN  \n",
       "2   Provence-Alpes-Côte d'Azur   labouilladisse  \n",
       "3         Auvergne-Rhône-Alpes  saintgenislaval  \n",
       "4   Provence-Alpes-Côte d'Azur       pelissanne  \n",
       "5                    Occitanie   bagnolssurceze  \n",
       "6   Provence-Alpes-Côte d'Azur          avignon  \n",
       "7         Auvergne-Rhône-Alpes     saintetienne  \n",
       "8   Provence-Alpes-Côte d'Azur         venelles  \n",
       "9                          NaN              NaN  \n",
       "10                         NaN              NaN  \n",
       "11  Provence-Alpes-Côte d'Azur    dignelesbains  \n",
       "\n",
       "[12 rows x 24 columns]"
      ]
     },
     "execution_count": 153,
     "metadata": {},
     "output_type": "execute_result"
    }
   ],
   "source": [
    "temp_df = pd.merge(df, city_df, left_on = ['format_city','dept'], \n",
    "         right_on = ['format_city2', 'Département'],\n",
    "                   how = 'left')\n",
    "temp_df"
   ]
  },
  {
   "cell_type": "code",
   "execution_count": 154,
   "id": "2d1e0d07",
   "metadata": {},
   "outputs": [
    {
     "data": {
      "text/plain": [
       "(12, 19)"
      ]
     },
     "execution_count": 154,
     "metadata": {},
     "output_type": "execute_result"
    }
   ],
   "source": [
    "df.shape"
   ]
  },
  {
   "cell_type": "code",
   "execution_count": 155,
   "id": "5b37ab74",
   "metadata": {},
   "outputs": [
    {
     "data": {
      "text/plain": [
       "(12, 24)"
      ]
     },
     "execution_count": 155,
     "metadata": {},
     "output_type": "execute_result"
    }
   ],
   "source": [
    "temp_df.shape"
   ]
  },
  {
   "cell_type": "code",
   "execution_count": 156,
   "id": "1d05f6dd",
   "metadata": {},
   "outputs": [
    {
     "ename": "KeyError",
     "evalue": "Index(['Population Totale'], dtype='object')",
     "output_type": "error",
     "traceback": [
      "\u001b[1;31m---------------------------------------------------------------------------\u001b[0m",
      "\u001b[1;31mKeyError\u001b[0m                                  Traceback (most recent call last)",
      "Input \u001b[1;32mIn [156]\u001b[0m, in \u001b[0;36m<cell line: 1>\u001b[1;34m()\u001b[0m\n\u001b[1;32m----> 1\u001b[0m temp_df\u001b[38;5;241m.\u001b[39mloc[\u001b[43mtemp_df\u001b[49m\u001b[38;5;241;43m.\u001b[39;49m\u001b[43mduplicated\u001b[49m\u001b[43m(\u001b[49m\u001b[43msubset\u001b[49m\u001b[38;5;241;43m=\u001b[39;49m\u001b[43m \u001b[49m\u001b[38;5;124;43m'\u001b[39;49m\u001b[38;5;124;43mPopulation Totale\u001b[39;49m\u001b[38;5;124;43m'\u001b[39;49m\u001b[43m)\u001b[49m]\n",
      "File \u001b[1;32mC:\\ProgramData\\Anaconda3\\lib\\site-packages\\pandas\\core\\frame.py:6250\u001b[0m, in \u001b[0;36mDataFrame.duplicated\u001b[1;34m(self, subset, keep)\u001b[0m\n\u001b[0;32m   6248\u001b[0m diff \u001b[38;5;241m=\u001b[39m Index(subset)\u001b[38;5;241m.\u001b[39mdifference(\u001b[38;5;28mself\u001b[39m\u001b[38;5;241m.\u001b[39mcolumns)\n\u001b[0;32m   6249\u001b[0m \u001b[38;5;28;01mif\u001b[39;00m \u001b[38;5;129;01mnot\u001b[39;00m diff\u001b[38;5;241m.\u001b[39mempty:\n\u001b[1;32m-> 6250\u001b[0m     \u001b[38;5;28;01mraise\u001b[39;00m \u001b[38;5;167;01mKeyError\u001b[39;00m(diff)\n\u001b[0;32m   6252\u001b[0m vals \u001b[38;5;241m=\u001b[39m (col\u001b[38;5;241m.\u001b[39mvalues \u001b[38;5;28;01mfor\u001b[39;00m name, col \u001b[38;5;129;01min\u001b[39;00m \u001b[38;5;28mself\u001b[39m\u001b[38;5;241m.\u001b[39mitems() \u001b[38;5;28;01mif\u001b[39;00m name \u001b[38;5;129;01min\u001b[39;00m subset)\n\u001b[0;32m   6253\u001b[0m labels, shape \u001b[38;5;241m=\u001b[39m \u001b[38;5;28mmap\u001b[39m(\u001b[38;5;28mlist\u001b[39m, \u001b[38;5;28mzip\u001b[39m(\u001b[38;5;241m*\u001b[39m\u001b[38;5;28mmap\u001b[39m(f, vals)))\n",
      "\u001b[1;31mKeyError\u001b[0m: Index(['Population Totale'], dtype='object')"
     ]
    }
   ],
   "source": [
    "temp_df.loc[temp_df.duplicated(subset= 'Population Totale')]"
   ]
  },
  {
   "cell_type": "code",
   "execution_count": 158,
   "id": "7cce2579",
   "metadata": {},
   "outputs": [],
   "source": [
    "temp_df.to_excel(\"final.xlsx\",index=False)"
   ]
  },
  {
   "cell_type": "code",
   "execution_count": null,
   "id": "9824f258",
   "metadata": {},
   "outputs": [],
   "source": []
  }
 ],
 "metadata": {
  "kernelspec": {
   "display_name": "Python 3 (ipykernel)",
   "language": "python",
   "name": "python3"
  },
  "language_info": {
   "codemirror_mode": {
    "name": "ipython",
    "version": 3
   },
   "file_extension": ".py",
   "mimetype": "text/x-python",
   "name": "python",
   "nbconvert_exporter": "python",
   "pygments_lexer": "ipython3",
   "version": "3.9.12"
  }
 },
 "nbformat": 4,
 "nbformat_minor": 5
}
